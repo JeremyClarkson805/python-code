{
 "cells": [
  {
   "cell_type": "markdown",
   "id": "6f9d8757",
   "metadata": {},
   "source": [
    "绘制图像 \n",
    "    -line(img,p1,p2,color,thickness,linetype,shift)   --->linetype线型为-1 4 8 16，默认是8(越大锯齿越不明显)   shift坐标缩放比例\n",
    "    -rectangle()画矩形 \n",
    "    -circle(img,圆心坐标，半径，线的粗细，线的粗糙程度)"
   ]
  },
  {
   "cell_type": "code",
   "execution_count": 2,
   "id": "abd67f8a",
   "metadata": {
    "ExecuteTime": {
     "end_time": "2023-03-29T14:36:31.531248Z",
     "start_time": "2023-03-29T14:36:31.203539Z"
    }
   },
   "outputs": [],
   "source": [
    "import cv2\n",
    "import numpy as np\n",
    "from PIL import ImageFont,ImageFont,ImageDraw,Image\n",
    "img = np.zeros((480,640,3),np.uint8)  #创建纯黑的背景"
   ]
  },
  {
   "cell_type": "code",
   "execution_count": 3,
   "id": "d0226c66",
   "metadata": {
    "ExecuteTime": {
     "end_time": "2023-03-29T14:36:33.438335Z",
     "start_time": "2023-03-29T14:36:31.532246Z"
    }
   },
   "outputs": [],
   "source": [
    "img_line = cv2.line(img,(10,20),(480,640),(0,0,255),5,16)   #画线\n",
    "cv2.imshow('line',img_line)\n",
    "cv2.waitKey()\n",
    "cv2.destroyAllWindows()"
   ]
  },
  {
   "cell_type": "code",
   "execution_count": 4,
   "id": "9065e31a",
   "metadata": {
    "ExecuteTime": {
     "end_time": "2023-03-29T14:36:34.468892Z",
     "start_time": "2023-03-29T14:36:33.440320Z"
    }
   },
   "outputs": [],
   "source": [
    "img_rectangle = cv2.rectangle(img,(10,100),(300,300),(0,0,255),16)   #画矩形\n",
    "cv2.imshow('rectangle',img_rectangle)\n",
    "cv2.waitKey()\n",
    "cv2.destroyAllWindows()"
   ]
  },
  {
   "cell_type": "code",
   "execution_count": 5,
   "id": "00dfb85a",
   "metadata": {
    "ExecuteTime": {
     "end_time": "2023-03-29T14:36:35.437872Z",
     "start_time": "2023-03-29T14:36:34.470885Z"
    }
   },
   "outputs": [],
   "source": [
    "img_circle = cv2.circle(img,(200,300),50,(0,0,255),4,16)    #画圆\n",
    "cv2.imshow('circle',img_circle)\n",
    "cv2.waitKey()\n",
    "cv2.destroyAllWindows()"
   ]
  },
  {
   "cell_type": "code",
   "execution_count": 6,
   "id": "0c816f20",
   "metadata": {
    "ExecuteTime": {
     "end_time": "2023-03-29T14:36:35.453845Z",
     "start_time": "2023-03-29T14:36:35.439902Z"
    }
   },
   "outputs": [
    {
     "ename": "SyntaxError",
     "evalue": "invalid character '，' (U+FF0C) (2284172221.py, line 3)",
     "output_type": "error",
     "traceback": [
      "\u001b[1;36m  File \u001b[1;32m\"C:\\Users\\13442\\AppData\\Local\\Temp\\ipykernel_22524\\2284172221.py\"\u001b[1;36m, line \u001b[1;32m3\u001b[0m\n\u001b[1;33m    图像，输出的文字，输出的点(左上角坐标)，输出的字体，字体大小，字体颜色，字体粗细\u001b[0m\n\u001b[1;37m      ^\u001b[0m\n\u001b[1;31mSyntaxError\u001b[0m\u001b[1;31m:\u001b[0m invalid character '，' (U+FF0C)\n"
     ]
    }
   ],
   "source": [
    "打印文字\n",
    "cv2.putText(image, text, (5,50 ), cv2.FONT_HERSHEY_SIMPLEX, 0.75, (0, 0, 255), 2)\n",
    "图像，输出的文字，输出的点(左上角坐标)，输出的字体，字体大小，字体颜色，字体粗细"
   ]
  },
  {
   "cell_type": "code",
   "execution_count": null,
   "id": "b52a644f",
   "metadata": {
    "ExecuteTime": {
     "end_time": "2023-03-29T14:36:35.454990Z",
     "start_time": "2023-03-29T14:36:35.454990Z"
    }
   },
   "outputs": [],
   "source": [
    "img_text = cv2.putText(img,'hello mother fucker',(100,100),cv2.FONT_HERSHEY_COMPLEX,1,[0,0,255])\n",
    "cv2.imshow('text',img_text)\n",
    "cv2.waitKey()\n",
    "cv2.destroyAllWindows()"
   ]
  },
  {
   "cell_type": "code",
   "execution_count": null,
   "id": "6b569e07",
   "metadata": {
    "ExecuteTime": {
     "end_time": "2023-03-29T14:36:35.455993Z",
     "start_time": "2023-03-29T14:36:35.455993Z"
    }
   },
   "outputs": [],
   "source": [
    "使用opencv绘制中文\n",
    "opencv没法直接绘制中文\n",
    "可以使用pillow包\n",
    "导包的时候叫PIL\n",
    "from PIL import ImageFont,ImageFont,ImageDraw,Image"
   ]
  },
  {
   "cell_type": "code",
   "execution_count": null,
   "id": "9182fd03",
   "metadata": {
    "ExecuteTime": {
     "end_time": "2023-03-29T14:36:35.457002Z",
     "start_time": "2023-03-29T14:36:35.457002Z"
    }
   },
   "outputs": [],
   "source": [
    "img_w = np.full((200,200,3),fill_value = 255,dtype = np.uint8)\n",
    "img_text_1 = ImageFont.truetype('./msyhbd.ttc',15)"
   ]
  }
 ],
 "metadata": {
  "kernelspec": {
   "display_name": "gather",
   "language": "python",
   "name": "gather"
  },
  "language_info": {
   "codemirror_mode": {
    "name": "ipython",
    "version": 3
   },
   "file_extension": ".py",
   "mimetype": "text/x-python",
   "name": "python",
   "nbconvert_exporter": "python",
   "pygments_lexer": "ipython3",
   "version": "3.10.8"
  },
  "toc": {
   "base_numbering": 1,
   "nav_menu": {},
   "number_sections": true,
   "sideBar": true,
   "skip_h1_title": false,
   "title_cell": "Table of Contents",
   "title_sidebar": "Contents",
   "toc_cell": false,
   "toc_position": {},
   "toc_section_display": true,
   "toc_window_display": false
  }
 },
 "nbformat": 4,
 "nbformat_minor": 5
}
