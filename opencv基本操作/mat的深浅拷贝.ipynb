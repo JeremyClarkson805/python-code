{
 "cells": [
  {
   "cell_type": "markdown",
   "id": "9af51198",
   "metadata": {},
   "source": [
    "Mat  --->本质上是一个类\n",
    "-opencv用mat这种数据结构来表示图片的 \n",
    "-Mat是opencv在c++中用来表示图像数据的一中数据结构，在python中转化为numpy的ndarray \n",
    "-Mat由header和data组成，header中记录了图片的维数，大小，数据类型等数据\n",
    "-属性：dims维度、channels通道数RGB是3、rows行数、size矩阵大小、cols列数、type dep+dt+chs CV_8UC3\n",
    "    depth像素的位深、data存放数据"
   ]
  },
  {
   "cell_type": "code",
   "execution_count": 1,
   "id": "ed716d3c",
   "metadata": {},
   "outputs": [],
   "source": [
    "import cv2\n",
    "import numpy as py\n",
    "img = cv2.imread('./chenzhuo_4.jpg')"
   ]
  },
  {
   "cell_type": "code",
   "execution_count": 2,
   "id": "9293f1d4",
   "metadata": {},
   "outputs": [
    {
     "name": "stdout",
     "output_type": "stream",
     "text": [
      "<class 'numpy.ndarray'>\n"
     ]
    }
   ],
   "source": [
    "print(type(img))"
   ]
  },
  {
   "cell_type": "code",
   "execution_count": null,
   "id": "e306a0c7",
   "metadata": {},
   "outputs": [],
   "source": [
    "ndarray(n维数组) 的四种常见属性"
   ]
  },
  {
   "cell_type": "code",
   "execution_count": 5,
   "id": "da1a08c1",
   "metadata": {},
   "outputs": [
    {
     "name": "stdout",
     "output_type": "stream",
     "text": [
      "20250000\n"
     ]
    }
   ],
   "source": [
    "print(img.size)   #--->元素的总个数"
   ]
  },
  {
   "cell_type": "code",
   "execution_count": 4,
   "id": "cc92768d",
   "metadata": {},
   "outputs": [
    {
     "name": "stdout",
     "output_type": "stream",
     "text": [
      "uint8\n"
     ]
    }
   ],
   "source": [
    "print(img.dtype)"
   ]
  },
  {
   "cell_type": "code",
   "execution_count": 6,
   "id": "ba522cea",
   "metadata": {},
   "outputs": [
    {
     "name": "stdout",
     "output_type": "stream",
     "text": [
      "(3000, 2250, 3)\n"
     ]
    }
   ],
   "source": [
    "print(img.shape)"
   ]
  },
  {
   "cell_type": "code",
   "execution_count": 7,
   "id": "8d8a3e2e",
   "metadata": {},
   "outputs": [
    {
     "name": "stdout",
     "output_type": "stream",
     "text": [
      "1\n"
     ]
    }
   ],
   "source": [
    "print(img.itemsize)"
   ]
  },
  {
   "cell_type": "code",
   "execution_count": null,
   "id": "34cbfd19",
   "metadata": {},
   "outputs": [],
   "source": [
    "img_1 = img.view()   #--->对应c++的浅拷贝\n",
    "img_2 = img.copy()   #--->对应c++的深拷贝"
   ]
  }
 ],
 "metadata": {
  "kernelspec": {
   "display_name": "gather",
   "language": "python",
   "name": "gather"
  },
  "language_info": {
   "codemirror_mode": {
    "name": "ipython",
    "version": 3
   },
   "file_extension": ".py",
   "mimetype": "text/x-python",
   "name": "python",
   "nbconvert_exporter": "python",
   "pygments_lexer": "ipython3",
   "version": "3.10.8"
  }
 },
 "nbformat": 4,
 "nbformat_minor": 5
}
