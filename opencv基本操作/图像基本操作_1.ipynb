{
 "cells": [
  {
   "cell_type": "code",
   "execution_count": 1,
   "id": "4fef9aaf",
   "metadata": {},
   "outputs": [],
   "source": [
    "import cv2\n",
    "import numpy as np\n",
    "import matplotlib.pyplot as plt\n",
    "%matplotlib inline\n",
    "img = cv2.imread(\"./1.aidaishu.jpg\",cv2.IMREAD_REDUCED_COLOR_4)\n",
    "cv2.imshow(\"p_1\",img)\n",
    "cv2.waitKey(0)          #--->注意，是waitKey  K是大写，如果是小写的话会卡住动不了\n",
    "cv2.destroyAllWindows()    #--->注意，是destroy！！！"
   ]
  },
  {
   "cell_type": "code",
   "execution_count": 10,
   "id": "93a38151",
   "metadata": {},
   "outputs": [
    {
     "data": {
      "text/plain": [
       "(1008, 756, 3)"
      ]
     },
     "execution_count": 10,
     "metadata": {},
     "output_type": "execute_result"
    }
   ],
   "source": [
    "img.shape     #下面的三个值对应 h w c"
   ]
  },
  {
   "cell_type": "code",
   "execution_count": 13,
   "id": "cd1fbea0",
   "metadata": {
    "scrolled": true
   },
   "outputs": [
    {
     "data": {
      "text/plain": [
       "array([[[ 42,  77,  43],\n",
       "        [ 42,  77,  43],\n",
       "        [ 43,  78,  44],\n",
       "        ...,\n",
       "        [208, 202, 203],\n",
       "        [209, 203, 204],\n",
       "        [209, 203, 204]],\n",
       "\n",
       "       [[ 42,  77,  43],\n",
       "        [ 42,  77,  43],\n",
       "        [ 45,  78,  44],\n",
       "        ...,\n",
       "        [208, 202, 203],\n",
       "        [209, 203, 204],\n",
       "        [209, 203, 204]],\n",
       "\n",
       "       [[ 42,  77,  43],\n",
       "        [ 44,  77,  43],\n",
       "        [ 45,  78,  44],\n",
       "        ...,\n",
       "        [208, 202, 203],\n",
       "        [209, 203, 204],\n",
       "        [209, 203, 204]],\n",
       "\n",
       "       ...,\n",
       "\n",
       "       [[133, 120, 112],\n",
       "        [133, 120, 112],\n",
       "        [133, 120, 112],\n",
       "        ...,\n",
       "        [172, 177, 180],\n",
       "        [172, 177, 180],\n",
       "        [172, 175, 179]],\n",
       "\n",
       "       [[130, 118, 112],\n",
       "        [130, 118, 112],\n",
       "        [130, 118, 112],\n",
       "        ...,\n",
       "        [172, 177, 180],\n",
       "        [172, 175, 179],\n",
       "        [172, 175, 179]],\n",
       "\n",
       "       [[130, 118, 112],\n",
       "        [130, 118, 112],\n",
       "        [130, 118, 112],\n",
       "        ...,\n",
       "        [172, 175, 179],\n",
       "        [172, 175, 179],\n",
       "        [174, 175, 179]]], dtype=uint8)"
      ]
     },
     "execution_count": 13,
     "metadata": {},
     "output_type": "execute_result"
    }
   ],
   "source": [
    "img_1 = cv2.imread(\"./1.aidaishu.jpg\")     #--->BGR三个颜色对应的亮度矩阵\n",
    "img"
   ]
  },
  {
   "cell_type": "code",
   "execution_count": 16,
   "id": "52628693",
   "metadata": {},
   "outputs": [
    {
     "data": {
      "text/plain": [
       "array([[ 63,  63,  64, ..., 203, 204, 204],\n",
       "       [ 63,  63,  64, ..., 203, 204, 204],\n",
       "       [ 63,  63,  64, ..., 203, 204, 204],\n",
       "       ...,\n",
       "       [119, 119, 119, ..., 177, 177, 176],\n",
       "       [118, 118, 118, ..., 177, 176, 176],\n",
       "       [118, 118, 118, ..., 176, 176, 176]], dtype=uint8)"
      ]
     },
     "execution_count": 16,
     "metadata": {},
     "output_type": "execute_result"
    }
   ],
   "source": [
    "img_2 = cv2.imread(\"./1.aidaishu.jpg\",cv2.IMREAD_GRAYSCALE)     #灰度图对应的矩阵\n",
    "img"
   ]
  },
  {
   "cell_type": "code",
   "execution_count": 18,
   "id": "43ae7021",
   "metadata": {},
   "outputs": [
    {
     "data": {
      "text/plain": [
       "numpy.ndarray"
      ]
     },
     "execution_count": 18,
     "metadata": {},
     "output_type": "execute_result"
    }
   ],
   "source": [
    "type(img)"
   ]
  },
  {
   "cell_type": "code",
   "execution_count": 19,
   "id": "be48e449",
   "metadata": {},
   "outputs": [
    {
     "data": {
      "text/plain": [
       "12192768"
      ]
     },
     "execution_count": 19,
     "metadata": {},
     "output_type": "execute_result"
    }
   ],
   "source": [
    "img.size"
   ]
  },
  {
   "cell_type": "code",
   "execution_count": 7,
   "id": "f74fafd1",
   "metadata": {},
   "outputs": [],
   "source": [
    "vc = cv2.VideoCapture(0)\n",
    "if vc.isOpened():\n",
    "    open,frame = vc.read()    # --->会返回两个值，第一个是布尔类型的值， 第二个是返回来的每一帧的图像\n",
    "else:\n",
    "    open = False\n",
    "while open:\n",
    "    ret,frame = vc.read()\n",
    "    if frame is None:\n",
    "        break\n",
    "    if ret == True:\n",
    "        gray = cv2.cvtColor(frame,cv2.COLOR_BGR2GRAY)\n",
    "        cv2.imshow(\"result\",gray)\n",
    "        if cv2.waitKey(10) & 0xFF == 27:\n",
    "            break\n",
    "vc.release()\n",
    "cv2.destroyAllWindows()"
   ]
  },
  {
   "cell_type": "code",
   "execution_count": null,
   "id": "0bc13cd0",
   "metadata": {},
   "outputs": [],
   "source": [
    "b,g,r = cv2.split(img)   #--->将图片按BGR三个颜色来切片"
   ]
  },
  {
   "cell_type": "code",
   "execution_count": 6,
   "id": "230078ff",
   "metadata": {},
   "outputs": [
    {
     "data": {
      "text/plain": [
       "array([[ 43,  43,  44, ..., 203, 204, 204],\n",
       "       [ 43,  43,  44, ..., 203, 204, 204],\n",
       "       [ 43,  43,  44, ..., 203, 204, 204],\n",
       "       ...,\n",
       "       [112, 112, 112, ..., 180, 180, 179],\n",
       "       [112, 112, 112, ..., 180, 179, 179],\n",
       "       [112, 112, 112, ..., 179, 179, 179]], dtype=uint8)"
      ]
     },
     "execution_count": 6,
     "metadata": {},
     "output_type": "execute_result"
    }
   ],
   "source": [
    "r"
   ]
  },
  {
   "cell_type": "code",
   "execution_count": 7,
   "id": "95201a10",
   "metadata": {},
   "outputs": [
    {
     "data": {
      "text/plain": [
       "(4032, 3024)"
      ]
     },
     "execution_count": 7,
     "metadata": {},
     "output_type": "execute_result"
    }
   ],
   "source": [
    "r.shape"
   ]
  },
  {
   "cell_type": "code",
   "execution_count": 8,
   "id": "b5d8d679",
   "metadata": {},
   "outputs": [
    {
     "data": {
      "text/plain": [
       "(4032, 3024, 3)"
      ]
     },
     "execution_count": 8,
     "metadata": {},
     "output_type": "execute_result"
    }
   ],
   "source": [
    "img = cv2.merge((b,g,r))     #切片完了还可以重新装回去\n",
    "img.shape"
   ]
  },
  {
   "cell_type": "code",
   "execution_count": 10,
   "id": "f76c0d04",
   "metadata": {},
   "outputs": [],
   "source": [
    "cur_img = img.copy()\n",
    "cur_img [:,:,0] = 0\n",
    "cur_img [:,:,1] = 0       #BGR三种颜色分别对应的0，1，2，想要切其他颜色的话就以此类推\n",
    "cv2.imshow('R',cur_img)\n",
    "cv2.waitKey(0)\n",
    "cv2.destroyAllWindows()"
   ]
  },
  {
   "cell_type": "code",
   "execution_count": null,
   "id": "44a34539",
   "metadata": {},
   "outputs": [],
   "source": [
    "边界填充"
   ]
  },
  {
   "cell_type": "code",
   "execution_count": null,
   "id": "82401d76",
   "metadata": {},
   "outputs": [],
   "source": [
    "数值计算 "
   ]
  },
  {
   "cell_type": "code",
   "execution_count": null,
   "id": "2373e4bd",
   "metadata": {},
   "outputs": [],
   "source": [
    "import cv2\n",
    "img = cv2.imread(\"./1.aidaishu.jpg\")"
   ]
  },
  {
   "cell_type": "code",
   "execution_count": null,
   "id": "6646be43",
   "metadata": {},
   "outputs": [],
   "source": [
    "img_1 = img + 10     #--->如果这个数超过了255，那么这个值会变成超过255的值-255\n",
    "img [:5,:,0]"
   ]
  },
  {
   "cell_type": "code",
   "execution_count": null,
   "id": "96745de9",
   "metadata": {},
   "outputs": [],
   "source": [
    "img_1 [:5,:,0]"
   ]
  }
 ],
 "metadata": {
  "kernelspec": {
   "display_name": "gather",
   "language": "python",
   "name": "gather"
  },
  "language_info": {
   "codemirror_mode": {
    "name": "ipython",
    "version": 3
   },
   "file_extension": ".py",
   "mimetype": "text/x-python",
   "name": "python",
   "nbconvert_exporter": "python",
   "pygments_lexer": "ipython3",
   "version": "3.10.8"
  }
 },
 "nbformat": 4,
 "nbformat_minor": 5
}
