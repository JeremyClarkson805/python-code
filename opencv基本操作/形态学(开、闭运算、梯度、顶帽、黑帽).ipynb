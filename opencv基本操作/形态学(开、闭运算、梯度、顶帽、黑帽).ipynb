{
 "cells": [
  {
   "cell_type": "markdown",
   "id": "bfc52f39",
   "metadata": {},
   "source": [
    "## 开运算"
   ]
  },
  {
   "cell_type": "markdown",
   "id": "1e5dfaa9",
   "metadata": {},
   "source": [
    "<font size=3>开运算 = 腐蚀 + 膨胀<br>\n",
    "可以去除噪声，并保留原有图像</font>"
   ]
  },
  {
   "cell_type": "code",
   "execution_count": 29,
   "id": "58c09e2b",
   "metadata": {},
   "outputs": [],
   "source": [
    "import cv2\n",
    "import numpy as np\n",
    "img = cv2.imread('./1.aidaishu.jpg')\n",
    "img = cv2.resize(img,(378,504))\n",
    "kernel = cv2.getStructuringElement(cv2.MORPH_RECT,(5,5))"
   ]
  },
  {
   "cell_type": "markdown",
   "id": "2c9384e0",
   "metadata": {},
   "source": [
    "<font size=3>手动开运算</font>"
   ]
  },
  {
   "cell_type": "code",
   "execution_count": 30,
   "id": "1f29a47f",
   "metadata": {},
   "outputs": [],
   "source": [
    "img_1 = cv2.erode(img,kernel,iterations = 1)\n",
    "img_1 = cv2.dilate(img_1,kernel,iterations = 1)\n",
    "cv2.imshow(\"open\",img_1)\n",
    "cv2.waitKey()\n",
    "cv2.destroyAllWindows()"
   ]
  },
  {
   "cell_type": "markdown",
   "id": "bae0bf6a",
   "metadata": {},
   "source": [
    "<font size = 3>调用api </font>"
   ]
  },
  {
   "cell_type": "code",
   "execution_count": 15,
   "id": "698614d2",
   "metadata": {},
   "outputs": [],
   "source": [
    "img_2 = cv2.morphologyEx(img,cv2.MORPH_OPEN,kernel,iterations = 1)\n",
    "cv2.imshow(\"open\",img_2)\n",
    "cv2.waitKey()\n",
    "cv2.destroyAllWindows()"
   ]
  },
  {
   "cell_type": "markdown",
   "id": "e1dcfe31",
   "metadata": {},
   "source": [
    "## 闭运算"
   ]
  },
  {
   "cell_type": "markdown",
   "id": "177ce1a9",
   "metadata": {},
   "source": [
    "<font size=3> 闭运算 = 膨胀 + 腐蚀<br>\n",
    "可以去除图像内部的噪声<br>\n",
    "得到内部无噪声的图片</font>"
   ]
  },
  {
   "cell_type": "code",
   "execution_count": 17,
   "id": "836421f2",
   "metadata": {},
   "outputs": [],
   "source": [
    "img_3 = cv2.morphologyEx(img,cv2.MORPH_CLOSE,kernel,iterations = 1)\n",
    "cv2.imshow('close',img_3)\n",
    "cv2.waitKey()\n",
    "cv2.destroyAllWindows()"
   ]
  },
  {
   "cell_type": "markdown",
   "id": "1086db83",
   "metadata": {},
   "source": [
    "## 形态学梯度"
   ]
  },
  {
   "cell_type": "markdown",
   "id": "86b43959",
   "metadata": {},
   "source": [
    "<font size = 3>梯度 = 原图 - 腐蚀<br>\n",
    "腐蚀之后原图边缘变小了，这样一减就可以得到图像的边缘</font>"
   ]
  },
  {
   "cell_type": "code",
   "execution_count": 26,
   "id": "f31e259b",
   "metadata": {},
   "outputs": [],
   "source": [
    "kernel_1 = cv2.getStructuringElement(cv2.MORPH_RECT,(3,3))  \n",
    "img_4 = cv2.morphologyEx(img,cv2.MORPH_GRADIENT,kernel_1,iterations = 1) \n",
    "cv2.imshow('guradient',img_4)\n",
    "cv2.waitKey()\n",
    "cv2.destroyAllWindows()"
   ]
  },
  {
   "cell_type": "markdown",
   "id": "dc9ee1c6",
   "metadata": {},
   "source": [
    "## 顶帽运算"
   ]
  },
  {
   "cell_type": "markdown",
   "id": "e369cc28",
   "metadata": {},
   "source": [
    "<font size = 3>顶帽 = 原图 - 开运算<br>\n",
    "开运算的效果是去除图形外的噪点，原图-开运算就得到了去除掉的噪点</font>"
   ]
  },
  {
   "cell_type": "code",
   "execution_count": 28,
   "id": "a435ce1a",
   "metadata": {},
   "outputs": [],
   "source": [
    "img_5 = cv2.morphologyEx(img,cv2.MORPH_TOPHAT,kernel_1,iterations = 1)\n",
    "cv2.imshow('tophat',img_5)\n",
    "cv2.waitKey()\n",
    "cv2.destroyAllWindows()"
   ]
  },
  {
   "cell_type": "markdown",
   "id": "be9fc32e",
   "metadata": {},
   "source": [
    "## 黑帽操作"
   ]
  },
  {
   "cell_type": "markdown",
   "id": "18c88cbf",
   "metadata": {},
   "source": [
    "<font size = 3>黑帽 = 原图 - 闭运算<br>\n",
    "闭运算可以将图形内部的噪点去掉--->原图 - 闭运算 = 图形内部的噪点</font>"
   ]
  },
  {
   "cell_type": "code",
   "execution_count": 32,
   "id": "3873ed89",
   "metadata": {},
   "outputs": [],
   "source": [
    "img_6 = cv2.morphologyEx(img,cv2.MORPH_BLACKHAT,kernel_1,iterations = 1)\n",
    "cv2.imshow('tophat',img_6)\n",
    "cv2.waitKey()\n",
    "cv2.destroyAllWindows()"
   ]
  },
  {
   "cell_type": "code",
   "execution_count": null,
   "id": "e5279732",
   "metadata": {},
   "outputs": [],
   "source": []
  }
 ],
 "metadata": {
  "kernelspec": {
   "display_name": "gather",
   "language": "python",
   "name": "gather"
  },
  "language_info": {
   "codemirror_mode": {
    "name": "ipython",
    "version": 3
   },
   "file_extension": ".py",
   "mimetype": "text/x-python",
   "name": "python",
   "nbconvert_exporter": "python",
   "pygments_lexer": "ipython3",
   "version": "3.10.8"
  },
  "toc": {
   "base_numbering": 1,
   "nav_menu": {},
   "number_sections": true,
   "sideBar": true,
   "skip_h1_title": false,
   "title_cell": "Table of Contents",
   "title_sidebar": "Contents",
   "toc_cell": false,
   "toc_position": {},
   "toc_section_display": true,
   "toc_window_display": false
  }
 },
 "nbformat": 4,
 "nbformat_minor": 5
}
