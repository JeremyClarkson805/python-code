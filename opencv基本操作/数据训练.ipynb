{
 "cells": [
  {
   "cell_type": "code",
   "execution_count": 1,
   "id": "8bc427e4",
   "metadata": {
    "ExecuteTime": {
     "end_time": "2023-03-29T09:49:24.800684Z",
     "start_time": "2023-03-29T09:49:24.639952Z"
    }
   },
   "outputs": [],
   "source": [
    "import cv2\n",
    "import os\n",
    "from PIL import Image \n",
    "import numpy as np"
   ]
  },
  {
   "cell_type": "code",
   "execution_count": 7,
   "id": "2a4416d9",
   "metadata": {
    "ExecuteTime": {
     "end_time": "2023-03-29T09:52:25.230314Z",
     "start_time": "2023-03-29T09:52:25.224406Z"
    }
   },
   "outputs": [],
   "source": [
    "def getImageAndLabels(path):\n",
    "    facesSamples = []   #储存人脸数据的列表\n",
    "    ids = []\n",
    "    imagePaths = [os.path.join(path,f)for f in os.listdir(path)]\n",
    "    face_detector = cv2.CascadeClassifier('C:\\\\Users\\\\13442\\\\.conda\\\\pkgs\\\\opencv-4.6.0-py310ha7641e4_2\\\\Library\\\\etc\\\\haarcascades\\\\haarcascade_frontalface_alt2.xml') \n",
    "    for imagePath in imagePaths:\n",
    "        PIL_img = Image.open(imagePath).convert('L')\n",
    "        img_numpy = np.array(PIL_img,'uint8')\n",
    "        faces = face_detector.detectMultiScale(img_numpy)\n",
    "        id = int(os.path.split(imagePath)[1].split('.')[0])\n",
    "        for x,y,w,h in faces:\n",
    "            ids.append(id)\n",
    "            facesSamples.append(img_numpy[y:y+h,x:x+w])\n",
    "        print('id:',id)\n",
    "        print('fs:',facesSamples)\n",
    "        return facesSamples,ids"
   ]
  },
  {
   "cell_type": "code",
   "execution_count": 8,
   "id": "cf5e3dd5",
   "metadata": {
    "ExecuteTime": {
     "end_time": "2023-03-29T09:52:27.161971Z",
     "start_time": "2023-03-29T09:52:26.454368Z"
    }
   },
   "outputs": [
    {
     "name": "stdout",
     "output_type": "stream",
     "text": [
      "id: 1\n",
      "fs: [array([[33, 36, 37, ..., 16, 16, 18],\n",
      "       [35, 35, 34, ..., 20, 21, 22],\n",
      "       [36, 37, 35, ..., 25, 25, 26],\n",
      "       ...,\n",
      "       [21, 21, 20, ..., 28, 28, 27],\n",
      "       [20, 19, 21, ..., 23, 23, 23],\n",
      "       [19, 18, 19, ..., 21, 22, 22]], dtype=uint8)]\n"
     ]
    }
   ],
   "source": [
    "if __name__ == \"__main__\":\n",
    "    path = './photo/'\n",
    "    faces,ids = getImageAndLabels(path)\n",
    "    recognizer = cv2.face.LBPHFaceRecognizer_create()\n",
    "    recognizer.train(faces,np.array(ids))\n",
    "    recognizer.write('./chen_trainer_3.yml')"
   ]
  },
  {
   "cell_type": "code",
   "execution_count": null,
   "id": "b8153b3d",
   "metadata": {},
   "outputs": [],
   "source": []
  }
 ],
 "metadata": {
  "kernelspec": {
   "display_name": "gather",
   "language": "python",
   "name": "gather"
  },
  "language_info": {
   "codemirror_mode": {
    "name": "ipython",
    "version": 3
   },
   "file_extension": ".py",
   "mimetype": "text/x-python",
   "name": "python",
   "nbconvert_exporter": "python",
   "pygments_lexer": "ipython3",
   "version": "3.10.8"
  },
  "toc": {
   "base_numbering": 1,
   "nav_menu": {},
   "number_sections": true,
   "sideBar": true,
   "skip_h1_title": false,
   "title_cell": "Table of Contents",
   "title_sidebar": "Contents",
   "toc_cell": false,
   "toc_position": {},
   "toc_section_display": true,
   "toc_window_display": false
  }
 },
 "nbformat": 4,
 "nbformat_minor": 5
}
