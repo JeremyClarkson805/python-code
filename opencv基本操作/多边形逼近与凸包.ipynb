{
 "cells": [
  {
   "cell_type": "markdown",
   "id": "1af91e69",
   "metadata": {},
   "source": [
    "## 多边形逼近: "
   ]
  },
  {
   "cell_type": "markdown",
   "id": "ac5c10a7",
   "metadata": {},
   "source": [
    "### cv2.approxPolyDP(curve,epsilon,closed[,approxCurve])"
   ]
  },
  {
   "cell_type": "markdown",
   "id": "c599871a",
   "metadata": {},
   "source": [
    "<font size = 3>\n",
    "Curve:要画的轮廓；<br>\n",
    "Epsilon:精度（精度越高，数据量越大）；<br>\n",
    "Closed:是否闭合；<br>\n",
    "approxCurve:类型应与输入曲线的类型匹配（如果closed=True，则近似的曲线也是closed=True）\n",
    "</font>"
   ]
  },
  {
   "cell_type": "markdown",
   "id": "0cec0173",
   "metadata": {},
   "source": [
    "## 凸包"
   ]
  },
  {
   "cell_type": "markdown",
   "id": "2d46c210",
   "metadata": {},
   "source": [
    "### cv2.convexHull(points,clockwise,...) "
   ]
  },
  {
   "cell_type": "code",
   "execution_count": null,
   "id": "8160c345",
   "metadata": {},
   "outputs": [],
   "source": [
    "import cv2\n",
    "import numpy as np\n",
    "img = cv2.imread('./1.aidaishu.jpg')\n",
    "img = cv2.resize(img,(378,504))\n"
   ]
  }
 ],
 "metadata": {
  "kernelspec": {
   "display_name": "gather",
   "language": "python",
   "name": "gather"
  },
  "language_info": {
   "codemirror_mode": {
    "name": "ipython",
    "version": 3
   },
   "file_extension": ".py",
   "mimetype": "text/x-python",
   "name": "python",
   "nbconvert_exporter": "python",
   "pygments_lexer": "ipython3",
   "version": "3.10.8"
  },
  "toc": {
   "base_numbering": 1,
   "nav_menu": {},
   "number_sections": true,
   "sideBar": true,
   "skip_h1_title": false,
   "title_cell": "Table of Contents",
   "title_sidebar": "Contents",
   "toc_cell": false,
   "toc_position": {},
   "toc_section_display": true,
   "toc_window_display": false
  }
 },
 "nbformat": 4,
 "nbformat_minor": 5
}
