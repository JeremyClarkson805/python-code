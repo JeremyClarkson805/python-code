{
 "cells": [
  {
   "cell_type": "markdown",
   "id": "37a8e4d5",
   "metadata": {},
   "source": [
    "视频其实本质上是由一幅幅的图片组成的 \n",
    "打开视频文件 \n",
    "    -vc =  cv2.VideoCapture('video address')\n",
    "打开摄像头 \n",
    "    -vc = cv2.VideoCapture(0)  这个0是选择你要用那个摄像头的\n",
    "waitKey() 是在一个给定的时间内(单位ms)等待用户按键触发，显示视频时，延迟时间需要设置为 大于0的参数\n",
    "  -如果是0的话则只会显示第一帧视频，也就是说隔多少毫秒就刷新一次画面"
   ]
  },
  {
   "cell_type": "code",
   "execution_count": null,
   "id": "130bdb1b",
   "metadata": {
    "ExecuteTime": {
     "start_time": "2023-03-28T15:11:05.454Z"
    }
   },
   "outputs": [],
   "source": [
    "import cv2\n",
    "cv2.namedWindow('video',cv2.WINDOW_NORMAL)   #创建窗口\n",
    "cv2.resizeWindow('video',640,480)            #修改窗口的尺寸\n",
    "cap = cv2.VideoCapture(1)\n",
    "while True:                       #循环读取摄像头的每一帧\n",
    "    ret,frame = cap.read()        #读一帧数据，返回标记，True表示读到了数据，False表示梅毒到数据   \n",
    "    if not ret:                   #如果没督导数据就直接退出\n",
    "        break\n",
    "    cv2.imshow(\"video\",frame)     #显示数据\n",
    "    key = cv2.waitKey(10)         \n",
    "    if key == ord('q'):             \n",
    "        break\n",
    "cap.release()                     #最后要释放资源\n",
    "cv2.destroyAllWindows()"
   ]
  },
  {
   "cell_type": "code",
   "execution_count": null,
   "id": "c18d020e",
   "metadata": {},
   "outputs": [],
   "source": []
  }
 ],
 "metadata": {
  "kernelspec": {
   "display_name": "gather",
   "language": "python",
   "name": "gather"
  },
  "language_info": {
   "codemirror_mode": {
    "name": "ipython",
    "version": 3
   },
   "file_extension": ".py",
   "mimetype": "text/x-python",
   "name": "python",
   "nbconvert_exporter": "python",
   "pygments_lexer": "ipython3",
   "version": "3.10.8"
  },
  "toc": {
   "base_numbering": 1,
   "nav_menu": {},
   "number_sections": true,
   "sideBar": true,
   "skip_h1_title": false,
   "title_cell": "Table of Contents",
   "title_sidebar": "Contents",
   "toc_cell": false,
   "toc_position": {},
   "toc_section_display": true,
   "toc_window_display": false
  }
 },
 "nbformat": 4,
 "nbformat_minor": 5
}
