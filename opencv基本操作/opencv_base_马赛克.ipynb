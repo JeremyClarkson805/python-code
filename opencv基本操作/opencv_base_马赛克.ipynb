{
 "cells": [
  {
   "cell_type": "code",
   "execution_count": 4,
   "id": "fe3a914b",
   "metadata": {},
   "outputs": [],
   "source": [
    "import cv2\n",
    "import numpy as np\n",
    "def show(name,img):\n",
    "    cv2.imshow(f\"name\",img)\n",
    "    cv2.waitKey()\n",
    "    cv2.destroyAllWindows()\n",
    "    \n",
    "img = cv2.imread(\"./1.aidaishu.jpg\")\n",
    "img = cv2.resize(img,(378,504))"
   ]
  },
  {
   "cell_type": "markdown",
   "id": "c11e3344",
   "metadata": {},
   "source": [
    "马赛克方式一\n",
    "    -通过修改图片尺寸，先缩小，再放大，这样图片就会变糊\n",
    "    -resize再放大图片时会根据周围像素点的颜色进行填充，所以这样放大的时候就会变糊"
   ]
  },
  {
   "cell_type": "markdown",
   "id": "d7dad9b2",
   "metadata": {},
   "source": [
    "马赛克方式二 \n",
    "    -修改像素点，将某个像素点的周围都搞成一样的也就是重复\n",
    "    -repeat方法：1，2，3重复2次会变成1，1，2，2，3，3"
   ]
  },
  {
   "cell_type": "code",
   "execution_count": 5,
   "id": "d5814621",
   "metadata": {},
   "outputs": [],
   "source": [
    "img_1 = cv2.resize(img,(38,50))\n",
    "img_2 = np.repeat(img_1,10,axis = 0)   #--->先重复行的像素\n",
    "img_3 = np.repeat(img_2,10,axis = 1)   #--->再重复列的像素\n",
    "show(\"chen_1\",img_3)"
   ]
  },
  {
   "cell_type": "markdown",
   "id": "dfdd93c6",
   "metadata": {},
   "source": [
    "马赛克方式三(伪马赛克)"
   ]
  },
  {
   "cell_type": "code",
   "execution_count": 11,
   "id": "1a117604",
   "metadata": {},
   "outputs": [],
   "source": [
    "img_4 = img[::10,::10]   #从每十个像素中取出一个像素\n",
    "cv2.namedWindow('chen_2',flags = cv2.WINDOW_NORMAL)\n",
    "cv2.resizeWindow('chen_2',378,504)\n",
    "cv2.imshow(\"chen_2\",img_4)\n",
    "cv2.waitKey()\n",
    "cv2.destroyAllWindows()"
   ]
  },
  {
   "cell_type": "markdown",
   "id": "50583f34",
   "metadata": {},
   "source": [
    "人脸马赛克 "
   ]
  }
 ],
 "metadata": {
  "kernelspec": {
   "display_name": "gather",
   "language": "python",
   "name": "gather"
  },
  "language_info": {
   "codemirror_mode": {
    "name": "ipython",
    "version": 3
   },
   "file_extension": ".py",
   "mimetype": "text/x-python",
   "name": "python",
   "nbconvert_exporter": "python",
   "pygments_lexer": "ipython3",
   "version": "3.10.8"
  }
 },
 "nbformat": 4,
 "nbformat_minor": 5
}
