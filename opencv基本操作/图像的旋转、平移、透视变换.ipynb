{
 "cells": [
  {
   "cell_type": "code",
   "execution_count": 3,
   "id": "ffa2056a",
   "metadata": {},
   "outputs": [],
   "source": [
    "import cv2\n",
    "import numpy as np\n",
    "img = cv2.imread('./1.aidaishu.jpg')\n",
    "img = cv2.resize(img,(378,504))"
   ]
  },
  {
   "cell_type": "markdown",
   "id": "637dfdc1",
   "metadata": {},
   "source": [
    "图像的翻转\n",
    "flip(src,flipCode)\n",
    "flipCode = 0--->上下翻转 \n",
    "       > 0--->表示左右翻转 \n",
    "       < 0--->上下+左右"
   ]
  },
  {
   "cell_type": "code",
   "execution_count": 10,
   "id": "e18c07dd",
   "metadata": {},
   "outputs": [],
   "source": [
    "img_uad = cv2.flip(img,-1)\n",
    "cv2.imshow('up and down',np.hstack((img,img_uad)))   #np.hstack将参数元组的元素数组按水平方向进行叠加\n",
    "cv2.waitKey()\n",
    "cv2.destroyAllWindows()"
   ]
  },
  {
   "cell_type": "markdown",
   "id": "1d70feb4",
   "metadata": {},
   "source": [
    "图像的旋转 \n",
    "\n",
    "rotate(img,rotateCode)\n",
    "RORATE_90_CLOCKWISE  --->90度顺时针旋转 \n",
    "RORATE_180   --->旋转180度 \n",
    "RORATE_90_COUNTERCLOCKWISE   --->90度逆时针旋转 "
   ]
  },
  {
   "cell_type": "code",
   "execution_count": 14,
   "id": "034df3b4",
   "metadata": {},
   "outputs": [],
   "source": [
    "img_1 = cv2.rotate(img,rotateCode = cv2.ROTATE_90_CLOCKWISE)\n",
    "cv2.imshow('rotate',img_1)   #np.hstack将参数元组的元素数组按水平方向进行叠加\n",
    "cv2.waitKey()\n",
    "cv2.destroyAllWindows()"
   ]
  },
  {
   "cell_type": "markdown",
   "id": "be2949f7",
   "metadata": {},
   "source": [
    "仿射变换之图像平移 \n",
    "\n",
    "warpAffine(src,M,dsize,flags,mode,value)\n",
    "M -->变换矩阵 \n",
    "dsize --->输出图片大小 \n",
    "flag --->与resize中插值算法一致 \n",
    "mode --->边界外推法标志 \n",
    "value --->填充边界值\n",
    "平移矩阵\n",
    "    -矩阵中每个像素点(x,y)，假设沿x轴平移m，沿y轴平移n，最后的坐标就是(x,y) = (x+m,y+n)\n",
    "     x    1  0  m    x\n",
    "    (y)  =  (0  1  n ) ( y )    --->用矩阵表示出来就是这样的\n",
    "     1    0  0 1     1"
   ]
  },
  {
   "cell_type": "code",
   "execution_count": 6,
   "id": "4ba33ae0",
   "metadata": {},
   "outputs": [],
   "source": [
    "w,h,ch = img.shape\n",
    "M_1 = np.float32([[1,0,100],[0,1,100]])   #--->变换矩阵最少是float32位\n",
    "img_2 = cv2.warpAffine(img,M_1,dsize = (w,h))\n",
    "cv2.imshow('warpAffine',img_2)   \n",
    "cv2.waitKey()\n",
    "cv2.destroyAllWindows()"
   ]
  },
  {
   "cell_type": "code",
   "execution_count": null,
   "id": "6fa6d52a",
   "metadata": {},
   "outputs": [],
   "source": [
    "仿射变换之获取变换矩阵 \n",
    "\n",
    "opencv提供了计算变换矩阵的API\n",
    "getRotationMatrix2D(center,angle,scale)\n",
    "    center--->中心点，以图片的哪个点作为旋转时的中心点 \n",
    "    angle--->角度，旋转的角度，按照逆时针旋转 \n",
    "    scale--->缩放比例，想把图片进行什么样的缩放"
   ]
  },
  {
   "cell_type": "code",
   "execution_count": 7,
   "id": "3e106f7c",
   "metadata": {},
   "outputs": [],
   "source": [
    "M_2 = cv2.getRotationMatrix2D((50,50),15,1)\n",
    "img_3 = cv2.warpAffine(img,M_2,dsize = (w,h))\n",
    "cv2.imshow('getRotationMatrix2D',img_3)   \n",
    "cv2.waitKey()\n",
    "cv2.destroyAllWindows()"
   ]
  },
  {
   "cell_type": "code",
   "execution_count": null,
   "id": "70617f8b",
   "metadata": {},
   "outputs": [],
   "source": [
    "warpPerspective(img,M,desize,...)\n",
    "对于透视变换来说，M是一个3*3的矩阵\n",
    "getPerspectiveTransform(src,dst)获取透视变换的变换矩阵，需要四个点，即图片的四个角的坐标，左上，右上，左下，右下"
   ]
  },
  {
   "cell_type": "code",
   "execution_count": 14,
   "id": "cb64bedb",
   "metadata": {},
   "outputs": [],
   "source": [
    "pic = cv2.imread('./dikhen.jpg') \n",
    "src = np.float32([[254,199],[2261,158],[452,3811],[2331,3870]])   #src是原图的四个坐标\n",
    "dst = np.float32([[0,0],[1985,0],[0,3645],[1985,3645]])\n",
    "M = cv2.getPerspectiveTransform(src,dst)\n",
    "pic_1 = cv2.warpPerspective(pic,M,(1985,3645)) \n",
    "pic_1 = cv2.resize(pic_1,(662,1155))\n",
    "cv2.imshow('pic',pic_1)\n",
    "cv2.waitKey()\n",
    "cv2.destroyAllWindows()"
   ]
  }
 ],
 "metadata": {
  "kernelspec": {
   "display_name": "gather",
   "language": "python",
   "name": "gather"
  },
  "language_info": {
   "codemirror_mode": {
    "name": "ipython",
    "version": 3
   },
   "file_extension": ".py",
   "mimetype": "text/x-python",
   "name": "python",
   "nbconvert_exporter": "python",
   "pygments_lexer": "ipython3",
   "version": "3.10.8"
  }
 },
 "nbformat": 4,
 "nbformat_minor": 5
}
