{
 "cells": [
  {
   "cell_type": "code",
   "execution_count": null,
   "id": "ce36a476",
   "metadata": {
    "ExecuteTime": {
     "start_time": "2023-03-28T13:42:28.954Z"
    }
   },
   "outputs": [
    {
     "name": "stdout",
     "output_type": "stream",
     "text": [
      "标签: 1 置信评分: 63.74826586509721\n",
      "标签: 1 置信评分: 149.52131507469576\n",
      "标签: 1 置信评分: 128.3951602518065\n",
      "标签: 1 置信评分: 163.1262625788392\n",
      "标签: 1 置信评分: 158.01709838177226\n",
      "标签: 1 置信评分: 165.00026968256356\n"
     ]
    }
   ],
   "source": [
    "import cv2\n",
    "import numpy as np\n",
    "import os\n",
    "recognizer = cv2.face.LBPHFaceRecognizer_create()\n",
    "recognizer.read('C:\\\\Users\\\\13442\\\\Desktop\\\\ipynb\\\\opencv_demo\\\\chen_trainer_1.yml')  #这里只能写绝对路径，绝对不可以写相对路径，否则会报'cv::CascadeClassifier::detectMultiScale'\n",
    "img = cv2.imread('./photo/2.chen.jpg')        \n",
    "# img = cv2.resize(img,(378,504))\n",
    "gray = cv2.cvtColor(img,cv2.COLOR_BGR2GRAY) \n",
    "face_detector = cv2.CascadeClassifier('C:\\\\Users\\\\13442\\\\.conda\\\\pkgs\\\\opencv-4.6.0-py310ha7641e4_2\\\\Library\\\\etc\\\\haarcascades\\\\haarcascade_frontalface_alt2.xml')\n",
    "faces = face_detector.detectMultiScale(gray) \n",
    "for x,y,w,h in faces:\n",
    "    cv2.rectangle(img,(x,y),(x+w,y+h),(0,0,255),2)\n",
    "    id,confidence = recognizer.predict(gray[y:y+h,x:x+w])\n",
    "    cv2.putText(img, str(confidence), (x+w,y+h), cv2.FONT_HERSHEY_SIMPLEX, 1.5, (0, 255,0), 3)\n",
    "    if confidence <80 :\n",
    "        cv2.putText(img,'This is ChenZhuo', (x,y), cv2.FONT_HERSHEY_SIMPLEX, 2, (0, 255,0), 3)\n",
    "#     print(type(confidence))\n",
    "    print('标签:',id,'置信评分:',confidence)\n",
    "cv2.namedWindow('result',cv2.WINDOW_NORMAL) \n",
    "cv2.imshow('result',img)\n",
    "cv2.waitKey()\n",
    "cv2.destroyAllWindows()"
   ]
  },
  {
   "cell_type": "markdown",
   "id": "b765f081",
   "metadata": {},
   "source": [
    "0表示完全匹配，好的参考值要低于50，任何高于80的参考值都会被认为是低的置信度评分"
   ]
  },
  {
   "cell_type": "code",
   "execution_count": null,
   "id": "79e32579",
   "metadata": {},
   "outputs": [],
   "source": []
  }
 ],
 "metadata": {
  "kernelspec": {
   "display_name": "gather",
   "language": "python",
   "name": "gather"
  },
  "language_info": {
   "codemirror_mode": {
    "name": "ipython",
    "version": 3
   },
   "file_extension": ".py",
   "mimetype": "text/x-python",
   "name": "python",
   "nbconvert_exporter": "python",
   "pygments_lexer": "ipython3",
   "version": "3.10.8"
  },
  "toc": {
   "base_numbering": 1,
   "nav_menu": {},
   "number_sections": true,
   "sideBar": true,
   "skip_h1_title": false,
   "title_cell": "Table of Contents",
   "title_sidebar": "Contents",
   "toc_cell": false,
   "toc_position": {},
   "toc_section_display": true,
   "toc_window_display": false
  }
 },
 "nbformat": 4,
 "nbformat_minor": 5
}
