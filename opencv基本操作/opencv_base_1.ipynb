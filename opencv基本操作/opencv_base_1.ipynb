{
 "cells": [
  {
   "cell_type": "code",
   "execution_count": null,
   "id": "1e10f380",
   "metadata": {},
   "outputs": [],
   "source": [
    "opencv官方教程文档: https://www.cnblogs.com/Undo-self-blog/p/8423851.html"
   ]
  },
  {
   "cell_type": "code",
   "execution_count": 8,
   "id": "2c1b716d",
   "metadata": {},
   "outputs": [],
   "source": [
    "import cv2\n",
    "import numpy as np \n",
    "pic = cv2.imread(\"./1.aidaishu.jpg\")   #--->加载图片的路径必须是英文的，中文的会报错"
   ]
  },
  {
   "cell_type": "code",
   "execution_count": 3,
   "id": "c361eda5",
   "metadata": {},
   "outputs": [
    {
     "name": "stdout",
     "output_type": "stream",
     "text": [
      "(4032, 3024, 3)\n"
     ]
    }
   ],
   "source": [
    "print(pic.shape)    #(4023,3024,3) 数组形状，像素是4023x3024"
   ]
  },
  {
   "cell_type": "code",
   "execution_count": 4,
   "id": "8ae4717e",
   "metadata": {
    "scrolled": true
   },
   "outputs": [
    {
     "name": "stdout",
     "output_type": "stream",
     "text": [
      "[[[ 42  77  43]\n",
      "  [ 42  77  43]\n",
      "  [ 43  78  44]\n",
      "  ...\n",
      "  [208 202 203]\n",
      "  [209 203 204]\n",
      "  [209 203 204]]\n",
      "\n",
      " [[ 42  77  43]\n",
      "  [ 42  77  43]\n",
      "  [ 45  78  44]\n",
      "  ...\n",
      "  [208 202 203]\n",
      "  [209 203 204]\n",
      "  [209 203 204]]\n",
      "\n",
      " [[ 42  77  43]\n",
      "  [ 44  77  43]\n",
      "  [ 45  78  44]\n",
      "  ...\n",
      "  [208 202 203]\n",
      "  [209 203 204]\n",
      "  [209 203 204]]\n",
      "\n",
      " ...\n",
      "\n",
      " [[133 120 112]\n",
      "  [133 120 112]\n",
      "  [133 120 112]\n",
      "  ...\n",
      "  [172 177 180]\n",
      "  [172 177 180]\n",
      "  [172 175 179]]\n",
      "\n",
      " [[130 118 112]\n",
      "  [130 118 112]\n",
      "  [130 118 112]\n",
      "  ...\n",
      "  [172 177 180]\n",
      "  [172 175 179]\n",
      "  [172 175 179]]\n",
      "\n",
      " [[130 118 112]\n",
      "  [130 118 112]\n",
      "  [130 118 112]\n",
      "  ...\n",
      "  [172 175 179]\n",
      "  [172 175 179]\n",
      "  [174 175 179]]]\n"
     ]
    }
   ],
   "source": [
    "print(pic)    # --->说明了图片是个数组，而且是个numpy数组"
   ]
  },
  {
   "cell_type": "code",
   "execution_count": 9,
   "id": "cb737fa8",
   "metadata": {},
   "outputs": [],
   "source": [
    "cv2.imshow(\"chenzhuo\",pic) #弹出窗口,里面只支持英文名，中文会乱码。第一个参数是放的弹出窗口的名字，第二个房要显示的图片\n",
    "cv2.waitKey()              #等待键盘输入，任意输入，触发这个代码\n",
    "cv2.destroyAllWindows()    #销毁内存"
   ]
  },
  {
   "cell_type": "code",
   "execution_count": 11,
   "id": "03429a48",
   "metadata": {},
   "outputs": [],
   "source": [
    "cv2.imshow('pic',pic[::-1,:,:])   #::-1  表示翻转   这三个参数表示的是高度，宽度，颜色(蓝，绿，红)\n",
    "cv2.waitKey()                     #白色是[255,255,255]，因此颠倒完他还是白的，不会发生变化\n",
    "cv2.destroyAllWindows()"
   ]
  },
  {
   "cell_type": "markdown",
   "id": "08205246",
   "metadata": {},
   "source": [
    "opencv的尺寸和黑白\n",
    "-cv2.resize(img,( , ))   --->可以改变图片的尺寸"
   ]
  },
  {
   "cell_type": "code",
   "execution_count": 16,
   "id": "321add16",
   "metadata": {},
   "outputs": [],
   "source": [
    "import cv2\n",
    "\n",
    "img = cv2.imread('./1.aidaishu.jpg')\n",
    "img = cv2.resize(img,(378,504))\n",
    "cv2.imshow('chen',img)\n",
    "cv2.waitKey(0)   #0--->无限等待;1000毫秒=1秒，如果输入一个数，那么到时间后会自动消失\n",
    "cv2.destroyAllWindows()"
   ]
  },
  {
   "cell_type": "code",
   "execution_count": 12,
   "id": "d52d003c",
   "metadata": {},
   "outputs": [],
   "source": [
    "img_gray = cv2.cvtColor(img,code = cv2.COLOR_BGR2GRAY)   #--->转换为灰度图\n",
    "cv2.imshow('gray',img_gray)\n",
    "cv2.waitKey(0)\n",
    "cv2.destroyAllWindows()"
   ]
  },
  {
   "cell_type": "markdown",
   "id": "25f79dd1",
   "metadata": {},
   "source": [
    "HSV模型 \n",
    "-HSV模型也称六角锥体模型 \n",
    "-在在HSV模型中，颜色是由色度(Hue)饱和度(Saturation)明度(Value)共同组成的\n",
    "\n",
    "-色度（Hue）使用角度度量的，范围是从0 ° 0\\degree0°到360 ° 360\\degree360°（逆时针旋转），比如0 ° / 360 ° 0\\degree/360\\degree0°/360°代表红色，120 ° 120\\degree120°代表绿色，240 ° 240\\degree240°代表蓝色。\n",
    "-饱和度（Saturation）表示颜色接近光谱色的程度。一种颜色，可以看成是某种光谱色与白色混合的结果。其中光谱色所占的比例愈大，颜色接近光谱色的程度就愈高，颜色的饱和度也就愈高（参考百度）。其范围是0到1。\n",
    "-明度（Value）颜色明亮的程度，对于光源色，明度值与发光体的光亮度有关。其范围是0（暗）到1（明）。\n",
    "-比RGB更加接近人们对彩色的感知经验，方便进行颜色的对比\n",
    "-能够较容易地跟踪某种颜色的物体，常用于分割指定颜色的物体\n",
    " \n",
    "RGB的局限性\n",
    "-RGB颜色空间使用三个颜色分量的线性组合来表示颜色，任何颜色都与这三个分量有关，而且这三个分量是高度相关的，所以连续变换颜色时不够直观，想要对颜色进行调整的时候需要调整这三个分量才行\n",
    "-自然环境下获取的图像容易受自然光照、遮挡和阴影等情况的影响，即对亮度比较敏感。而RGB颜色空间的三个分量都与亮度密切相关，即只要亮度改变，三个分量都会随之改变，而没有一中更直观的的方式来表现\n",
    "-人眼对于这三种颜色分量的敏感程度是不一样的，在单色中，人眼对红色最不敏感，蓝色最敏感，故RGB颜色空间是一种均匀性较差的颜色空间。对于某种颜色，我们很难推测出较为精确的三个分量数值来表示\n",
    "-RGB适合于显示系统，而不适合于图像处理"
   ]
  },
  {
   "cell_type": "code",
   "execution_count": 15,
   "id": "d6d46787",
   "metadata": {},
   "outputs": [],
   "source": [
    "img_hsv = cv2.cvtColor(img,code = cv2.COLOR_BGR2HSV)     #--->转换为HSV\n",
    "cv2.imshow('hsv',img_hsv)\n",
    "cv2.waitKey(0)\n",
    "cv2.destroyAllWindows()"
   ]
  },
  {
   "cell_type": "code",
   "execution_count": 14,
   "id": "c7bf991e",
   "metadata": {},
   "outputs": [
    {
     "name": "stdout",
     "output_type": "stream",
     "text": [
      "[[0 0 0 ... 0 0 0]\n",
      " [0 0 0 ... 0 0 0]\n",
      " [0 0 0 ... 0 0 0]\n",
      " ...\n",
      " [0 0 0 ... 0 0 0]\n",
      " [0 0 0 ... 0 0 0]\n",
      " [0 0 0 ... 0 0 0]]\n"
     ]
    }
   ],
   "source": [
    "lower_blue = np.array([110,50,50])   #浅蓝色     这两行定义了HSV颜色空间中蓝色的范围\n",
    "upper_blue = np.array([130,255,255]) #深蓝色\n",
    "mask = cv2.inRange(img,lower_blue,upper_blue)    #根据蓝色的范围来标记图片中哪些位置是蓝色也就是lower_blue到upper_blue这一段\n",
    "print(mask)                                      #inRange是否在这个范围，只要在这个范围中，都属于蓝色\n",
    "cv2.imshow('blue',mask)                          #mask中的值是逻辑值0和1，值在blue的范围中就为1，否则就是0\n",
    "cv2.waitKey()\n",
    "cv2.destroyAllWindows()"
   ]
  },
  {
   "cell_type": "code",
   "execution_count": 19,
   "id": "af7fcbae",
   "metadata": {},
   "outputs": [],
   "source": [
    "res = cv2.bitwise_and(img,img,mask=mask)\n",
    "cv2.imshow('after_1',res)\n",
    "cv2.waitKey()\n",
    "cv2.destroyAllWindows()"
   ]
  },
  {
   "cell_type": "code",
   "execution_count": null,
   "id": "987515fb",
   "metadata": {},
   "outputs": [],
   "source": []
  }
 ],
 "metadata": {
  "kernelspec": {
   "display_name": "gather",
   "language": "python",
   "name": "gather"
  },
  "language_info": {
   "codemirror_mode": {
    "name": "ipython",
    "version": 3
   },
   "file_extension": ".py",
   "mimetype": "text/x-python",
   "name": "python",
   "nbconvert_exporter": "python",
   "pygments_lexer": "ipython3",
   "version": "3.10.8"
  }
 },
 "nbformat": 4,
 "nbformat_minor": 5
}
