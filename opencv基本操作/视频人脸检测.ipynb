{
 "cells": [
  {
   "cell_type": "code",
   "execution_count": 5,
   "id": "8431a2b6",
   "metadata": {
    "ExecuteTime": {
     "end_time": "2023-03-29T09:48:13.305288Z",
     "start_time": "2023-03-29T09:48:13.291978Z"
    }
   },
   "outputs": [],
   "source": [
    "import cv2\n",
    "def face_detect_demo(img):\n",
    "    gray = cv2.cvtColor(img,cv2.COLOR_BGR2GRAY)\n",
    "    face_detect = cv2.CascadeClassifier('./haarcascade_frontalface_default.xml')\n",
    "    face = face_detect.detectMultiScale(gray)\n",
    "    for x,y,w,h in face:\n",
    "        cv2.rectangle(img,(x,y),(x+w,y+h),color = (0,255,0),thickness = 2)\n",
    "    cv2.imshow('result',img)"
   ]
  },
  {
   "cell_type": "code",
   "execution_count": null,
   "id": "d7498d99",
   "metadata": {
    "ExecuteTime": {
     "start_time": "2023-03-29T09:48:14.353Z"
    }
   },
   "outputs": [],
   "source": [
    "cap = cv2.VideoCapture('./ChenZhuo_Camp.mp4')\n",
    "cap.read()\n",
    "while True:\n",
    "    flag,frame = cap.read()\n",
    "    if not flag:\n",
    "        break\n",
    "    face_detect_demo(frame)\n",
    "    if ord('q') == cv2.waitKey(5):\n",
    "        break \n",
    "cv2.destroyAllWindows()\n",
    "cap.release()"
   ]
  },
  {
   "cell_type": "code",
   "execution_count": null,
   "id": "87a29441",
   "metadata": {},
   "outputs": [],
   "source": []
  }
 ],
 "metadata": {
  "kernelspec": {
   "display_name": "gather",
   "language": "python",
   "name": "gather"
  },
  "language_info": {
   "codemirror_mode": {
    "name": "ipython",
    "version": 3
   },
   "file_extension": ".py",
   "mimetype": "text/x-python",
   "name": "python",
   "nbconvert_exporter": "python",
   "pygments_lexer": "ipython3",
   "version": "3.10.8"
  },
  "toc": {
   "base_numbering": 1,
   "nav_menu": {},
   "number_sections": true,
   "sideBar": true,
   "skip_h1_title": false,
   "title_cell": "Table of Contents",
   "title_sidebar": "Contents",
   "toc_cell": false,
   "toc_position": {},
   "toc_section_display": true,
   "toc_window_display": false
  }
 },
 "nbformat": 4,
 "nbformat_minor": 5
}
