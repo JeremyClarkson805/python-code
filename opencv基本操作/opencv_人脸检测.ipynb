{
 "cells": [
  {
   "cell_type": "code",
   "execution_count": 1,
   "id": "d2a1486d",
   "metadata": {},
   "outputs": [],
   "source": [
    "import cv2\n",
    "img = cv2.imread('./chenzhuo_4.jpg')\n",
    "img = cv2.resize(img,(450,600))\n",
    "cv2.imshow(\"chen_1\",img)\n",
    "cv2.waitKey()\n",
    "cv2.destroyAllWindows()"
   ]
  },
  {
   "cell_type": "code",
   "execution_count": 4,
   "id": "2e7a8edd",
   "metadata": {},
   "outputs": [
    {
     "name": "stdout",
     "output_type": "stream",
     "text": [
      "[[308  42  23  23]\n",
      " [ 80 368  23  23]\n",
      " [306 366  26  26]\n",
      " [105 370  21  21]\n",
      " [339 374  25  25]]\n"
     ]
    }
   ],
   "source": [
    "#这个叫级联分类器，检测器   #haarcascade_eye.xml、haarcascade_frontalface_alt.xml\n",
    "face_detector = cv2.CascadeClassifier('C:\\\\Users\\\\13442\\\\.conda\\\\pkgs\\\\opencv-4.6.0-py310ha7641e4_2\\\\Library\\\\etc\\\\haarcascades\\\\haarcascade_frontalface_alt.xml')\n",
    "#这是人脸特征的详细说明，计算机根据这些特征进行人脸检测\n",
    "#如果符合其中的一部分特征，就能算作是人脸 \n",
    "faces = face_detector.detectMultiScale(img)   #--->调用了级联分类器，找到人脸，这个函数输出的是一个坐标\n",
    "print(faces)"
   ]
  },
  {
   "cell_type": "code",
   "execution_count": null,
   "id": "fcc40fc6",
   "metadata": {},
   "outputs": [],
   "source": [
    "for x,y,w,h in faces:\n",
    "    cv2.rectangle(img,pt1 = (x,y),pt2 = (x+w,y+h),color = [0,0,255],thickness = 2)   #(图像，框的左上角，框的右下角，框的颜色，框的厚度)\n",
    "cv2.imshow('face',img)\n",
    "cv2.waitKey()\n",
    "cv2.destroyAllWindows()"
   ]
  },
  {
   "cell_type": "code",
   "execution_count": null,
   "id": "fa329aa6",
   "metadata": {},
   "outputs": [],
   "source": []
  }
 ],
 "metadata": {
  "kernelspec": {
   "display_name": "gather",
   "language": "python",
   "name": "gather"
  },
  "language_info": {
   "codemirror_mode": {
    "name": "ipython",
    "version": 3
   },
   "file_extension": ".py",
   "mimetype": "text/x-python",
   "name": "python",
   "nbconvert_exporter": "python",
   "pygments_lexer": "ipython3",
   "version": "3.10.8"
  },
  "toc": {
   "base_numbering": 1,
   "nav_menu": {},
   "number_sections": true,
   "sideBar": true,
   "skip_h1_title": false,
   "title_cell": "Table of Contents",
   "title_sidebar": "Contents",
   "toc_cell": false,
   "toc_position": {},
   "toc_section_display": true,
   "toc_window_display": false
  }
 },
 "nbformat": 4,
 "nbformat_minor": 5
}
