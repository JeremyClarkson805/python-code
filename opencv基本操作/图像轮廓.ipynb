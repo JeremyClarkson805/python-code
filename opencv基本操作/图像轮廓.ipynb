{
 "cells": [
  {
   "cell_type": "markdown",
   "id": "ea978f20",
   "metadata": {},
   "source": [
    "## 什么是图像轮廓"
   ]
  },
  {
   "cell_type": "markdown",
   "id": "01d0ef8f",
   "metadata": {},
   "source": [
    "<font size = 3>之前学的 sobel算子、scharr算子、laplasian算子、canny边缘检测，这些都是检测图像中边缘线条的，检测出来的是图像的边缘，而非图像轮廓，要加以区分<br>\n",
    "边缘检测主要是通过一些手段检测数字图像中明暗变化剧烈（即梯度变化比较大）像素点，偏向于图像中像素点的变化<br>轮廓检测指检测图像中的对象边界，更偏向于关注上层语义对象，主要用来分析物体的形态，比如物体的周长和面积等。可以说边缘包括轮廓。边缘主要是作为图像的特征使用，比如可以用边缘特征可以区分脸和手，而轮廓则是一个很好的图像目标的外部特征</font>"
   ]
  },
  {
   "cell_type": "markdown",
   "id": "957f3c11",
   "metadata": {},
   "source": [
    "## 查找轮廓函数"
   ]
  },
  {
   "cell_type": "markdown",
   "id": "e86e6daa",
   "metadata": {},
   "source": [
    "<font size = 4>   contours, hierarchy = cv2.findContours(img, mode, method) </font>"
   ]
  },
  {
   "cell_type": "markdown",
   "id": "4d2b31d1",
   "metadata": {},
   "source": [
    "### 解释"
   ]
  },
  {
   "cell_type": "markdown",
   "id": "30338f76",
   "metadata": {},
   "source": [
    "<font size = 3> \n",
    "img:要做轮廓检测的图像，必须是8位单通道二值图像。所以，一般情况下我们都是将图像处理为二值图像后再将其作为参数传入。在很多情况下，我们是预先对图像进行阈值分割或者边缘检测处理(比如经过Canny、拉普拉斯等边缘检测算子处理过的二值图像)，在得到满意的二值图像后再作为参数传入使用，这样效果会更好</font>"
   ]
  },
  {
   "cell_type": "markdown",
   "id": "47620097",
   "metadata": {},
   "source": [
    "\n",
    "<font size = 3>\n",
    "mode:    mode: 轮廓检索模式。决定了轮廓的提取方式：<br>\n",
    "　　cv2.RETR_EXTERNAL: 只检测最外面的轮廓<br>\n",
    "　　cv2.RETR_LIST: 检索所有的轮廓，并将其保存到一条链表当中。对检测到的轮廓不建立等级关系<br>\n",
    "　　cv2.RETR_CCOMP：检索所有轮廓并将它们组织成两级层次结构。顶层是各部分的外部边界，第二层是空洞的边界。<br>\n",
    "　　cv2.RETR_TREE：检索所有轮廓，并建立一个等级树结构的轮廓，就是重构嵌套轮廓的整个层次。<br>\n",
    "　　说明：一般情况下我们只用第4种模式，因为第4种模式是检测所有的轮廓并且把这些轮廓按层次保存成一个树结构，后面如果我们有需要直接调用即可。<br>\n",
    "</font>"
   ]
  },
  {
   "cell_type": "markdown",
   "id": "dba847a2",
   "metadata": {},
   "source": [
    "<font size = 3> method： 轮廓逼近方法，就是如何表达轮廓，意思就是我是用线表示轮廓呢，还是简单点用2个点就表示了一条线的轮廓：<br>\n",
    "　　cv2.CHAIN_APPROX_NONE:(保存全部的轮廓的点的坐标) 以Freeman链码的方式输出轮廓。意思就是我存储了所有的轮廓点，就是相连两个点的像素位置差不超过1，我可以用完整的线条来表示轮廓，就是我可以画出一个完整的轮廓。<br>\n",
    "　　cv2.CHAIN_APPROX_SIMPLE：(只保存轮廓的角的点的坐标)压缩水平方向、垂直方向、对角线方向的元素，只保留该方向的终点坐标。比如一个矩形只要用4个点来保存轮廓信息即可。因为要保存信息太多了，内存计算起来都是负担，我们就用4个点表示一个矩形轮廓吧。同理，如果是一个多边形，我们就输出这个多边形的顶点序列吧。  </font>"
   ]
  },
  {
   "cell_type": "markdown",
   "id": "5ad6162c",
   "metadata": {},
   "source": [
    "<font size = 3>contours：是返回的轮廓。这个轮廓是一个数组。<br>\n",
    "hierarchy：是轮廓的层次信息，就是mode参数决定的返回的轮廓数据的组织结构   </font>"
   ]
  },
  {
   "cell_type": "markdown",
   "id": "454842d0",
   "metadata": {},
   "source": [
    "### demo:"
   ]
  },
  {
   "cell_type": "code",
   "execution_count": 1,
   "id": "a370f27e",
   "metadata": {},
   "outputs": [
    {
     "name": "stdout",
     "output_type": "stream",
     "text": [
      "<class 'tuple'>\n",
      "<class 'numpy.ndarray'>\n",
      "[[[  1  -1  -1  -1]\n",
      "  [  2   0  -1  -1]\n",
      "  [  3   1  -1  -1]\n",
      "  [  4   2  -1  -1]\n",
      "  [  5   3  -1  -1]\n",
      "  [  6   4  -1  -1]\n",
      "  [  7   5  -1  -1]\n",
      "  [  8   6  -1  -1]\n",
      "  [  9   7  -1  -1]\n",
      "  [ 10   8  -1  -1]\n",
      "  [ 11   9  -1  -1]\n",
      "  [ 12  10  -1  -1]\n",
      "  [ 13  11  -1  -1]\n",
      "  [ 14  12  -1  -1]\n",
      "  [ 15  13  -1  -1]\n",
      "  [ 16  14  -1  -1]\n",
      "  [ 17  15  -1  -1]\n",
      "  [ 18  16  -1  -1]\n",
      "  [ 19  17  -1  -1]\n",
      "  [ 20  18  -1  -1]\n",
      "  [ 21  19  -1  -1]\n",
      "  [ 22  20  -1  -1]\n",
      "  [ 24  21  23  -1]\n",
      "  [ -1  -1  -1  22]\n",
      "  [ 25  22  -1  -1]\n",
      "  [ 26  24  -1  -1]\n",
      "  [ 27  25  -1  -1]\n",
      "  [ 29  26  28  -1]\n",
      "  [ -1  -1  -1  27]\n",
      "  [ 30  27  -1  -1]\n",
      "  [ 31  29  -1  -1]\n",
      "  [ 32  30  -1  -1]\n",
      "  [ 33  31  -1  -1]\n",
      "  [ 34  32  -1  -1]\n",
      "  [ 35  33  -1  -1]\n",
      "  [ 36  34  -1  -1]\n",
      "  [ 37  35  -1  -1]\n",
      "  [ 38  36  -1  -1]\n",
      "  [ 39  37  -1  -1]\n",
      "  [ 40  38  -1  -1]\n",
      "  [ 41  39  -1  -1]\n",
      "  [ 42  40  -1  -1]\n",
      "  [ 43  41  -1  -1]\n",
      "  [ 44  42  -1  -1]\n",
      "  [ 45  43  -1  -1]\n",
      "  [ 46  44  -1  -1]\n",
      "  [150  45  47  -1]\n",
      "  [ 48  -1  -1  46]\n",
      "  [ 49  47  -1  46]\n",
      "  [ 50  48  -1  46]\n",
      "  [ 51  49  -1  46]\n",
      "  [ 52  50  -1  46]\n",
      "  [ 53  51  -1  46]\n",
      "  [ 54  52  -1  46]\n",
      "  [ 55  53  -1  46]\n",
      "  [ 56  54  -1  46]\n",
      "  [ 57  55  -1  46]\n",
      "  [ 58  56  -1  46]\n",
      "  [ 59  57  -1  46]\n",
      "  [ 60  58  -1  46]\n",
      "  [ 61  59  -1  46]\n",
      "  [ 62  60  -1  46]\n",
      "  [ 63  61  -1  46]\n",
      "  [ 64  62  -1  46]\n",
      "  [ 65  63  -1  46]\n",
      "  [ 66  64  -1  46]\n",
      "  [ 67  65  -1  46]\n",
      "  [ 68  66  -1  46]\n",
      "  [ 69  67  -1  46]\n",
      "  [ 72  68  70  46]\n",
      "  [ 71  -1  -1  69]\n",
      "  [ -1  70  -1  69]\n",
      "  [ 73  69  -1  46]\n",
      "  [ 74  72  -1  46]\n",
      "  [ 75  73  -1  46]\n",
      "  [ 76  74  -1  46]\n",
      "  [ 77  75  -1  46]\n",
      "  [ 78  76  -1  46]\n",
      "  [ 79  77  -1  46]\n",
      "  [ 80  78  -1  46]\n",
      "  [ 81  79  -1  46]\n",
      "  [ 82  80  -1  46]\n",
      "  [ 83  81  -1  46]\n",
      "  [ 84  82  -1  46]\n",
      "  [ 85  83  -1  46]\n",
      "  [ 86  84  -1  46]\n",
      "  [ 87  85  -1  46]\n",
      "  [ 88  86  -1  46]\n",
      "  [ 96  87  89  46]\n",
      "  [ 90  -1  -1  88]\n",
      "  [ 91  89  -1  88]\n",
      "  [ 92  90  -1  88]\n",
      "  [ 93  91  -1  88]\n",
      "  [ 94  92  -1  88]\n",
      "  [ 95  93  -1  88]\n",
      "  [ -1  94  -1  88]\n",
      "  [ 97  88  -1  46]\n",
      "  [ 98  96  -1  46]\n",
      "  [ 99  97  -1  46]\n",
      "  [100  98  -1  46]\n",
      "  [101  99  -1  46]\n",
      "  [102 100  -1  46]\n",
      "  [103 101  -1  46]\n",
      "  [104 102  -1  46]\n",
      "  [105 103  -1  46]\n",
      "  [106 104  -1  46]\n",
      "  [107 105  -1  46]\n",
      "  [108 106  -1  46]\n",
      "  [109 107  -1  46]\n",
      "  [110 108  -1  46]\n",
      "  [111 109  -1  46]\n",
      "  [112 110  -1  46]\n",
      "  [134 111 113  46]\n",
      "  [114  -1  -1 112]\n",
      "  [115 113  -1 112]\n",
      "  [116 114  -1 112]\n",
      "  [117 115  -1 112]\n",
      "  [118 116  -1 112]\n",
      "  [119 117  -1 112]\n",
      "  [120 118  -1 112]\n",
      "  [121 119  -1 112]\n",
      "  [122 120  -1 112]\n",
      "  [123 121  -1 112]\n",
      "  [124 122  -1 112]\n",
      "  [125 123  -1 112]\n",
      "  [126 124  -1 112]\n",
      "  [127 125  -1 112]\n",
      "  [128 126  -1 112]\n",
      "  [129 127  -1 112]\n",
      "  [130 128  -1 112]\n",
      "  [131 129  -1 112]\n",
      "  [132 130  -1 112]\n",
      "  [133 131  -1 112]\n",
      "  [ -1 132  -1 112]\n",
      "  [135 112  -1  46]\n",
      "  [136 134  -1  46]\n",
      "  [137 135  -1  46]\n",
      "  [138 136  -1  46]\n",
      "  [139 137  -1  46]\n",
      "  [140 138  -1  46]\n",
      "  [141 139  -1  46]\n",
      "  [142 140  -1  46]\n",
      "  [143 141  -1  46]\n",
      "  [144 142  -1  46]\n",
      "  [145 143  -1  46]\n",
      "  [146 144  -1  46]\n",
      "  [147 145  -1  46]\n",
      "  [148 146  -1  46]\n",
      "  [149 147  -1  46]\n",
      "  [ -1 148  -1  46]\n",
      "  [ -1  46  -1  -1]]]\n"
     ]
    }
   ],
   "source": [
    "import cv2\n",
    "import numpy as np\n",
    "img = cv2.imread('./1.aidaishu.jpg')\n",
    "img = cv2.resize(img,(378,504))\n",
    "gray = cv2.cvtColor(img,cv2.COLOR_BGR2GRAY)\n",
    "thresh,binary = cv2.threshold(gray,160,255,cv2.THRESH_BINARY)\n",
    "contours,hierarchy = cv2.findContours(binary,cv2.RETR_TREE,cv2.CHAIN_APPROX_SIMPLE)\n",
    "print(type(contours))\n",
    "print(type(hierarchy))\n",
    "print(hierarchy)\n",
    "cv2.imshow('contours',binary)\n",
    "cv2.waitKey()\n",
    "cv2.destroyAllWindows()"
   ]
  },
  {
   "cell_type": "markdown",
   "id": "3ad31d65",
   "metadata": {},
   "source": [
    "## 绘制轮廓"
   ]
  },
  {
   "cell_type": "markdown",
   "id": "861252ed",
   "metadata": {},
   "source": [
    "### cv2.drawContours(image, contours, contourIdx, color, thickness=None, lineType=None, hierarchy=None, maxLevel=None, offset=None)"
   ]
  },
  {
   "cell_type": "markdown",
   "id": "c9e353be",
   "metadata": {},
   "source": [
    "<font size = 3>第一个参数是指明在哪幅图像上绘制轮廓；image为三通道才能显示轮廓<br>\n",
    "第二个参数是轮廓本身，在Python中是一个list<br>\n",
    "第三个参数指定绘制轮廓list中的哪条轮廓，如果是-1，则绘制其中的所有轮廓。后面的参数很简单。其中thickness表明轮廓线的宽度，如果是-1（cv2.FILLED），则为填充模式   </font>"
   ]
  },
  {
   "cell_type": "markdown",
   "id": "29be7f87",
   "metadata": {},
   "source": [
    "<font size = 3> 绘制轮廓会直接修改原图，如果想让原图保持不变的话就需要copy一份  </font>"
   ]
  },
  {
   "cell_type": "code",
   "execution_count": 2,
   "id": "91eb1355",
   "metadata": {},
   "outputs": [],
   "source": [
    "img_copy_1 = img.copy()\n",
    "img_copy_1 = cv2.drawContours(img_copy_1,contours,-1,(0,0,255),2)\n",
    "cv2.imshow('contours',img_copy_1)\n",
    "cv2.waitKey() \n",
    "cv2.destroyAllWindows()"
   ]
  },
  {
   "cell_type": "markdown",
   "id": "c51d5ede",
   "metadata": {},
   "source": [
    "## 计算轮廓面积"
   ]
  },
  {
   "cell_type": "code",
   "execution_count": 3,
   "id": "61676f5f",
   "metadata": {},
   "outputs": [
    {
     "name": "stdout",
     "output_type": "stream",
     "text": [
      "area: 34.0\n"
     ]
    }
   ],
   "source": [
    "area = cv2.contourArea(contours[1])\n",
    "print(\"area:\",area)"
   ]
  },
  {
   "cell_type": "markdown",
   "id": "60f79a61",
   "metadata": {},
   "source": [
    "## 计算轮廓周长"
   ]
  },
  {
   "cell_type": "code",
   "execution_count": 4,
   "id": "4606e93c",
   "metadata": {},
   "outputs": [
    {
     "name": "stdout",
     "output_type": "stream",
     "text": [
      "perimeter: 25.656854152679443\n"
     ]
    }
   ],
   "source": [
    "perimeter = cv2.arcLength(contours[1],closed = True)\n",
    "print(\"perimeter:\",perimeter)"
   ]
  },
  {
   "cell_type": "markdown",
   "id": "0ae2ab96",
   "metadata": {},
   "source": [
    "## 多边形逼近与突包(无法使用)"
   ]
  },
  {
   "cell_type": "markdown",
   "id": "52300992",
   "metadata": {},
   "source": [
    "<font size = 3>\n",
    "cv2.approxPolyDP(curve,epsilon,closed[,approxCurve])<br>\n",
    "Curve:要画的轮廓；<br>\n",
    "Epsilon:精度（精度越高，数据量越大）；<br>\n",
    "Closed:是否闭合；<br>\n",
    "approxCurve:类型应与输入曲线的类型匹配（如果closed=True，则近似的曲线也是closed=True）\n",
    "</font>"
   ]
  },
  {
   "cell_type": "code",
   "execution_count": 5,
   "id": "76f38027",
   "metadata": {},
   "outputs": [
    {
     "name": "stdout",
     "output_type": "stream",
     "text": [
      "[[[377 483]]\n",
      "\n",
      " [[372 503]]\n",
      "\n",
      " [[377 503]]]\n"
     ]
    }
   ],
   "source": [
    "approx = cv2.approxPolyDP(contours[0],3,closed = True)\n",
    "print(approx)\n",
    "cv2.drawContours(img_copy_1,[approx],0,(0,255,0),2)\n",
    "cv2.imshow('approx',img_copy_1)\n",
    "cv2.waitKey()\n",
    "cv2.destroyAllWindows()"
   ]
  },
  {
   "cell_type": "markdown",
   "id": "634dd924",
   "metadata": {},
   "source": [
    "6什么吊东西都画不出来"
   ]
  }
 ],
 "metadata": {
  "kernelspec": {
   "display_name": "gather",
   "language": "python",
   "name": "gather"
  },
  "language_info": {
   "codemirror_mode": {
    "name": "ipython",
    "version": 3
   },
   "file_extension": ".py",
   "mimetype": "text/x-python",
   "name": "python",
   "nbconvert_exporter": "python",
   "pygments_lexer": "ipython3",
   "version": "3.10.8"
  },
  "toc": {
   "base_numbering": 1,
   "nav_menu": {},
   "number_sections": true,
   "sideBar": true,
   "skip_h1_title": false,
   "title_cell": "Table of Contents",
   "title_sidebar": "Contents",
   "toc_cell": false,
   "toc_position": {},
   "toc_section_display": true,
   "toc_window_display": false
  }
 },
 "nbformat": 4,
 "nbformat_minor": 5
}
