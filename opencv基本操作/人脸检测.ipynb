{
 "cells": [
  {
   "cell_type": "code",
   "execution_count": 1,
   "id": "a943a42a",
   "metadata": {},
   "outputs": [],
   "source": [
    "import cv2\n",
    "import numpy as np\n",
    "img = cv2.imread('./1.aidaishu.jpg')\n",
    "img = cv2.resize(img,(378,504))"
   ]
  },
  {
   "cell_type": "code",
   "execution_count": 2,
   "id": "87c86fe3",
   "metadata": {},
   "outputs": [],
   "source": [
    "def face_detect_demo():\n",
    "    gray = cv2.cvtColor(img,cv2.COLOR_BGR2GRAY)\n",
    "    face_detect = cv2.CascadeClassifier('C:\\\\Users\\\\13442\\\\.conda\\\\pkgs\\\\opencv-4.6.0-py310ha7641e4_2\\\\Library\\\\etc\\\\haarcascades\\\\haarcascade_frontalface_alt2.xml') \n",
    "    face = face_detect.detectMultiScale(gray)\n",
    "    for x,y,w,h in face:\n",
    "        cv2.rectangle(img,(x,y),(x+w,y+h),color = (0,255,0),thickness = 2)\n",
    "    cv2.imshow('result',img)"
   ]
  },
  {
   "cell_type": "code",
   "execution_count": 3,
   "id": "389ef1e6",
   "metadata": {},
   "outputs": [],
   "source": [
    "face_detect_demo()\n",
    "cv2.waitKey()\n",
    "cv2.destroyAllWindows()"
   ]
  },
  {
   "cell_type": "code",
   "execution_count": null,
   "id": "e26c43e4",
   "metadata": {},
   "outputs": [],
   "source": []
  }
 ],
 "metadata": {
  "kernelspec": {
   "display_name": "gather",
   "language": "python",
   "name": "gather"
  },
  "language_info": {
   "codemirror_mode": {
    "name": "ipython",
    "version": 3
   },
   "file_extension": ".py",
   "mimetype": "text/x-python",
   "name": "python",
   "nbconvert_exporter": "python",
   "pygments_lexer": "ipython3",
   "version": "3.10.8"
  },
  "toc": {
   "base_numbering": 1,
   "nav_menu": {},
   "number_sections": true,
   "sideBar": true,
   "skip_h1_title": false,
   "title_cell": "Table of Contents",
   "title_sidebar": "Contents",
   "toc_cell": false,
   "toc_position": {},
   "toc_section_display": true,
   "toc_window_display": false
  }
 },
 "nbformat": 4,
 "nbformat_minor": 5
}
