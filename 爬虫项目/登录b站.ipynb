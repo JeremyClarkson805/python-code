{
 "cells": [
  {
   "cell_type": "code",
   "execution_count": 3,
   "id": "4456b38d",
   "metadata": {
    "ExecuteTime": {
     "end_time": "2023-04-04T04:07:53.899085Z",
     "start_time": "2023-04-04T04:07:53.826120Z"
    }
   },
   "outputs": [],
   "source": [
    "import re \n",
    "import requests \n",
    "from lxml import etree\n",
    "from time import sleep\n",
    "from selenium import webdriver"
   ]
  },
  {
   "cell_type": "code",
   "execution_count": 8,
   "id": "1bc244bc",
   "metadata": {
    "ExecuteTime": {
     "end_time": "2023-04-04T04:19:36.248841Z",
     "start_time": "2023-04-04T04:19:30.955578Z"
    }
   },
   "outputs": [],
   "source": [
    "path = r'./Driver_Notes/msedgedriver.exe'\n",
    "edge = webdriver.Edge(path)\n",
    "edge.get('https://space.bilibili.com/429582883?spm_id_from=333.337.0.0')\n"
   ]
  },
  {
   "cell_type": "code",
   "execution_count": null,
   "id": "7a52c7ed",
   "metadata": {},
   "outputs": [],
   "source": [
    "sleep(30)\n",
    "edge.close()\n",
    "//*[@id=\"internationalHeader\"]/div/div/div[3]/div[2]/span[1]/div"
   ]
  }
 ],
 "metadata": {
  "kernelspec": {
   "display_name": "gather",
   "language": "python",
   "name": "gather"
  },
  "language_info": {
   "codemirror_mode": {
    "name": "ipython",
    "version": 3
   },
   "file_extension": ".py",
   "mimetype": "text/x-python",
   "name": "python",
   "nbconvert_exporter": "python",
   "pygments_lexer": "ipython3",
   "version": "3.10.8"
  },
  "toc": {
   "base_numbering": 1,
   "nav_menu": {},
   "number_sections": true,
   "sideBar": true,
   "skip_h1_title": false,
   "title_cell": "Table of Contents",
   "title_sidebar": "Contents",
   "toc_cell": false,
   "toc_position": {},
   "toc_section_display": true,
   "toc_window_display": false
  }
 },
 "nbformat": 4,
 "nbformat_minor": 5
}
