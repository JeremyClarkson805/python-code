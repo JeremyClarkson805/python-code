{
 "cells": [
  {
   "cell_type": "code",
   "execution_count": 1,
   "id": "80f07f60",
   "metadata": {
    "ExecuteTime": {
     "end_time": "2023-04-08T03:29:40.507600Z",
     "start_time": "2023-04-08T03:29:40.382997Z"
    }
   },
   "outputs": [],
   "source": [
    "import requests\n",
    "import re \n",
    "import time\n",
    "from lxml import etree\n",
    "from selenium import webdriver\n",
    "path = 'C:\\\\Users\\\\13442\\\\Desktop\\\\ipynb\\\\Driver_Notes\\\\msedgedriver.exe'"
   ]
  },
  {
   "cell_type": "code",
   "execution_count": 2,
   "id": "b91f02cc",
   "metadata": {
    "ExecuteTime": {
     "end_time": "2023-04-08T03:29:47.490074Z",
     "start_time": "2023-04-08T03:29:42.285254Z"
    },
    "scrolled": true
   },
   "outputs": [
    {
     "name": "stdout",
     "output_type": "stream",
     "text": [
      "<html xmlns=\"http://www.w3.org/1999/xhtml\"><head>\n",
      "    <meta http-equiv=\"Content-Type\" content=\"text/html; charset=utf-8\">\n",
      "    <meta name=\"description\" content=\"湛江市检察院\"><meta name=\"keywords\" content=\"湛江,湛江市,检察院\">\n",
      "    <title>通知公告,湛江市人民检察院</title>\n",
      "    <link href=\"/Theme/2021/css/index.css\" type=\"text/css\" rel=\"stylesheet\">\n",
      "    <script type=\"text/javascript\" src=\"/Theme/2015/script/jquery.min.js\"></script>\n",
      "    <script type=\"text/javascript\" src=\"/Theme/2015/script/common.js\"></script>\n",
      "    <link href=\"/Theme/2021/css/app.css\" rel=\"stylesheet\" type=\"text/css\">\n",
      "    <link href=\"/Theme/2021/css/chunk-vendors.d9890480.css\" rel=\"stylesheet\" type=\"text/css\">\n",
      "    <link href=\"/NewVersion/js/app.a64ed48d.js\" rel=\"preload\" as=\"script\">\n",
      "    <link href=\"/NewVersion/js/chunk-vendors.23b9bd47.js\" rel=\"preload\" as=\"script\">\n",
      "    <script type=\"text/javascript\">\n",
      "        $(function () {\n",
      "            changeTag(2, \"on\", \"tb2_\");\n",
      "            var fNavi = $(\".f-nav\");\n",
      "            for (var i = 0; i < fNavi.length; i++) {\n",
      "                fNavi.eq(i).attr(\"tabindex\", i);\n",
      "                fNavi.eq(i).mouseover(function () {\n",
      "                    var p = this.parentNode.parentNode.getElementsByTagName(\"div\");\n",
      "                    for (var j = 0; j < p.length; j++)\n",
      "                        $(p[j]).hide();\n",
      "                    $(p[$(this).attr(\"tabindex\")]).show();\n",
      "                });\n",
      "            }\n",
      "        })\n",
      "    </script>\n",
      "    <style type=\"text/css\">\n",
      "        .footerp {\n",
      "        }\n",
      "\n",
      "            .footerp p {\n",
      "                text-align: left;\n",
      "                padding-top: 15px;\n",
      "            }\n",
      "    </style>\n",
      "</head>\n",
      "\n",
      "<body class=\"gdzjjc\">\n",
      "    <div class=\"layoutLHeader\" style=\" height: 240px; background-image: url(&quot;/fileserver/Upload/IndexFile/202101/dacf24c4745448eb8fd1dbffaa540119.png&quot;);background-position: center top;\"></div>\n",
      "    <div class=\"layoutLNav\" style=\"background-color: rgb(70, 118, 191);\">\n",
      "        <div class=\"nav-bar\" style=\"width: 1210px;\">\n",
      "            <div class=\"nav-item nav-item0 on\" style=\"width: 140px;\"><a href=\"/\" target=\"\"><img src=\"/fileserver/Upload/IndexFile/202101/f14e541f59fc42e68ef430f1baee1c53.png\" class=\"icon\">首页</a><ul class=\"nav-child\"></ul></div><div class=\"nav-item nav-item1 \" style=\"width: 140px;\"><a><img src=\"/fileserver/Upload/IndexFile/202101/5ba08e4907e5411b8f7bfb538de85e5c.png\" class=\"icon\">市院概况</a><ul class=\"nav-child\"><li class=\"nav-child-item\"><a href=\"/fileserver/NewsHtml/790bf420-73c8-44a1-b84b-d1eb45026115.html\" target=\"\">市院概况</a></li><li class=\"nav-child-item\"><a href=\"/fileserver/NewsHtml/05358d0c-cf94-4aed-bf27-b0c65262aa0f.html\" target=\"\">机构设置</a></li><li class=\"nav-child-item\"><a href=\"/fileserver/NewsHtml/0706bffd-4c16-42f6-af3d-134f35d30361.html\" target=\"\">人员信息 </a></li></ul></div><div class=\"nav-item nav-item2 \" style=\"width: 140px;\"><a href=\"/fileserver/NewsHtml/e07708cf-9e49-4af0-8571-511225044a43.html\" target=\"\"><img src=\"/fileserver/Upload/IndexFile/202101/40f8cf76c5234add832e4d7b49bddba0.png\" class=\"icon\">湛检动态</a><ul class=\"nav-child\"><li class=\"nav-child-item\"><a href=\"/fileserver/NewsHtml/e07708cf-9e49-4af0-8571-511225044a43.html\" target=\"\">湛检动态</a></li><li class=\"nav-child-item\"><a href=\"/fileserver/NewsHtml/ee3a7884-6cdb-451c-8e06-18189c310f82.html\" target=\"\">公益诉讼</a></li></ul></div><div class=\"nav-item nav-item3 \" style=\"width: 140px;\"><a><img src=\"/fileserver/Upload/IndexFile/202101/110609bc5a4c4371a38d43df5f2971f2.png\" class=\"icon\">检务公开</a><ul class=\"nav-child\"><li class=\"nav-child-item\"><a href=\"/fileserver/NewsHtml/5e1cbcdf-d030-43e0-9b83-c76f08b86384.html\" target=\"\">通知公告</a></li><li class=\"nav-child-item\"><a href=\"/fileserver/NewsHtml/036c6160-d18d-4a66-99fd-254dbee79c9f.html\" target=\"\">预算决算</a></li><li class=\"nav-child-item\"><a href=\"/fileserver/NewsHtml/ab17c493-25e9-4ba9-a5fa-cbc76658855a.html\" target=\"\">检察报告</a></li><li class=\"nav-child-item\"><a href=\"/fileserver/NewsHtml/a81555d1-9a9f-46ae-ba01-c99b903a6f6b.html\" target=\"\">检察公开听证</a></li><li class=\"nav-child-item\"><a href=\"/fileserver/NewsHtml/284941cb-0756-4726-9db5-f8834d1dd003.html\" target=\"\">新闻发布会</a></li></ul></div><div class=\"nav-item nav-item4 \" style=\"width: 140px;\"><a href=\"/fileserver/NewsHtml/c0b7eb03-4d3d-4b33-8c39-a35513cc74bb.html\" target=\"\"><img src=\"/fileserver/Upload/IndexFile/202101/38654cda9f374d238dead7573282121a.png\" class=\"icon\">检务指南</a><ul class=\"nav-child\"><li class=\"nav-child-item\"><a href=\"/fileserver/NewsHtml/ebf01b51-4fba-4228-a012-78ddf8058404.html\" target=\"\">工作流程</a></li><li class=\"nav-child-item\"><a href=\"/fileserver/NewsHtml/e8475531-718b-44e7-8120-c3aec935755b.html\" target=\"\">权利义务须知</a></li></ul></div><div class=\"nav-item nav-item5 \" style=\"width: 140px;\"><a><img src=\"/fileserver/Upload/IndexFile/202101/6ae0ba15e53449ba8514093816a42037.png\" class=\"icon\">理论研究</a><ul class=\"nav-child\"><li class=\"nav-child-item\"><a href=\"/fileserver/NewsHtml/a4e7e473-c127-41c5-9c4b-885c6d816df0.html\" target=\"\">典型案例</a></li><li class=\"nav-child-item\"><a href=\"/fileserver/NewsHtml/912b5572-b0f2-4078-9191-f753228dd5d3.html\" target=\"\">规范速递</a></li></ul></div>\n",
      "        </div>\n",
      "    </div>\n",
      "\n",
      "    <div class=\"content clearfix\" style=\"background-color:#fff;\">\n",
      "        <div class=\"left-nav fl\">\n",
      "            <div class=\"tit-pic\"><img src=\"/Theme/2015/images/bg-leftnav1.jpg\" alt=\"湛江市人民检察院\"></div>\n",
      "            <ul><li><a href=\"/fileserver/NewsHtml/fe1e1d2c-37fb-4266-93a7-770074f248a5.html\" class=\"f-nav\" tabindex=\"0\"><i></i>市院概况</a><div class=\"c-nav\" style=\"display:none\"><a href=\"/fileserver/NewsHtml/790bf420-73c8-44a1-b84b-d1eb45026115.html\" target=\"_self\">市院概况</a><a href=\"/fileserver/NewsHtml/05358d0c-cf94-4aed-bf27-b0c65262aa0f.html\" target=\"_self\">机构设置</a><a href=\"/fileserver/NewsHtml/0706bffd-4c16-42f6-af3d-134f35d30361.html\" target=\"_self\">人员信息</a></div></li><li><a href=\"/fileserver/NewsHtml/c654dfde-7153-4ac7-9089-abaa9b5662b9.html\" class=\"f-nav\" tabindex=\"1\"><i></i>湛检动态</a><div class=\"c-nav\" style=\"display:none\"><a href=\"/fileserver/NewsHtml/e07708cf-9e49-4af0-8571-511225044a43.html\" target=\"_self\">湛检动态</a><a href=\"/fileserver/NewsHtml/ee3a7884-6cdb-451c-8e06-18189c310f82.html\" target=\"_self\">公益诉讼</a></div></li><li><a href=\"/fileserver/NewsHtml/33b50d2a-486d-442f-acf7-41bc67244f79.html\" class=\"f-nav\" tabindex=\"2\"><i></i>检务公开</a><div class=\"c-nav\" style=\"display:block\"><a class=\"on\" href=\"/fileserver/NewsHtml/5e1cbcdf-d030-43e0-9b83-c76f08b86384.html\" target=\"_self\">通知公告</a><a href=\"/fileserver/NewsHtml/036c6160-d18d-4a66-99fd-254dbee79c9f.html\" target=\"_self\">预算决算</a><a href=\"/fileserver/NewsHtml/ab17c493-25e9-4ba9-a5fa-cbc76658855a.html\" target=\"_self\">检察报告</a><a href=\"/fileserver/NewsHtml/a81555d1-9a9f-46ae-ba01-c99b903a6f6b.html\" target=\"_self\">检察公开听证</a><a href=\"/fileserver/NewsHtml/284941cb-0756-4726-9db5-f8834d1dd003.html\" target=\"_self\">新闻发布会</a></div></li><li><a href=\"/fileserver/NewsHtml/c0b7eb03-4d3d-4b33-8c39-a35513cc74bb.html\" class=\"f-nav\" tabindex=\"3\"><i></i>检务指南</a><div class=\"c-nav\" style=\"display:none\"><a href=\"/fileserver/NewsHtml/e8475531-718b-44e7-8120-c3aec935755b.html\" target=\"_self\">权利义务须知</a><a href=\"/fileserver/NewsHtml/ebf01b51-4fba-4228-a012-78ddf8058404.html\" target=\"_self\">工作流程</a></div></li><li><a href=\"/fileserver/NewsHtml/3353dc62-ee71-4677-9054-d709c7a67414.html\" class=\"f-nav\" tabindex=\"4\"><i></i>理论研究</a><div class=\"c-nav\" style=\"display:none\"><a href=\"/fileserver/NewsHtml/912b5572-b0f2-4078-9191-f753228dd5d3.html\" target=\"_self\">规范速递</a><a href=\"/fileserver/NewsHtml/a4e7e473-c127-41c5-9c4b-885c6d816df0.html\" target=\"_self\">典型案例</a></div></li></ul>\n",
      "        </div>\n",
      "        <div class=\"rightList fr\">\n",
      "            <div class=\"listBox\">\n",
      "                <div class=\"wz\">您当前所在位置：<a href=\"/\">首页</a> &gt;&gt;  <a href=\"/fileserver/NewsHtml/33b50d2a-486d-442f-acf7-41bc67244f79.html\">检务公开</a> &gt;&gt;<a style=\"color:red\" href=\"/fileserver/NewsHtml/5e1cbcdf-d030-43e0-9b83-c76f08b86384.html\">通知公告</a> <a id=\"listTop\"></a></div>\n",
      "                <ul class=\"newsList\"><li><i>2022-08-18</i><a href=\"/fileserver/NewsHtml/13c4f4a8-79fc-4a35-9048-2e5fc87aad83.html\" title=\"湛江市人民检察院公开听证公告\" target=\"_blank\">湛江市人民检察院公开听证公告</a></li><li><i>2022-08-05</i><a href=\"/fileserver/NewsHtml/c5c80c16-615d-4ec9-b9c6-276fe5e854d0.html\" title=\"关于推迟湛江市检察机关2022年公开招聘劳动合同制书记员笔试的公告\" target=\"_blank\">关于推迟湛江市检察机关2022年公开招聘劳动合..</a></li><li><i>2022-08-04</i><a href=\"/fileserver/NewsHtml/61878f9d-b52b-42e7-94dd-e85c4a7c0c70.html\" title=\"湛江市人民检察院2022年拟录用公务员名单公示\" target=\"_blank\">湛江市人民检察院2022年拟录用公务员名单公示</a></li><li><i>2022-07-28</i><a href=\"/fileserver/NewsHtml/a6c8b690-f909-4c2f-8188-e36a4c58c9b2.html\" title=\"湛江市检察机关2022年公开招聘劳动合同制书记员笔试公告\" target=\"_blank\">湛江市检察机关2022年公开招聘劳动合同制书记..</a></li><li><i>2022-07-20</i><a href=\"/fileserver/NewsHtml/00363da4-c1d2-439b-98e2-eabd732abaf1.html\" title=\"关于湛江市检察机关2022年公开招聘劳动合同制书记员的温馨提示\" target=\"_blank\">关于湛江市检察机关2022年公开招聘劳动合同制..</a></li><li><i>2022-07-01</i><a href=\"/fileserver/NewsHtml/809e99ff-448e-49a3-8b4e-76cfc3036cc8.html\" title=\"湛江市检察机关2022年公开招聘劳动合同制书记员公告\" target=\"_blank\">湛江市检察机关2022年公开招聘劳动合同制书记..</a></li><li><i>2022-06-30</i><a href=\"/fileserver/NewsHtml/370f4319-4d30-41c0-a672-f0361287d263.html\" title=\"湛江市人民检察院听证公告\" target=\"_blank\">湛江市人民检察院听证公告</a></li><li><i>2022-06-08</i><a href=\"/fileserver/NewsHtml/fd5549ab-26a6-4a4d-9de6-f320703896e9.html\" title=\"湛江市人民检察院征集涉未成年人文身公益诉讼案件线索公告\" target=\"_blank\">湛江市人民检察院征集涉未成年人文身公益诉讼..</a></li><li><i>2022-04-11</i><a href=\"/fileserver/NewsHtml/5a100691-2876-4765-948d-3ddb98ada917.html\" title=\"湛江市人民检察院听证公告\" target=\"_blank\">湛江市人民检察院听证公告</a></li><li><i>2022-01-19</i><a href=\"/fileserver/NewsHtml/e366ef3c-23bb-4fd5-9f01-4519e791ac62.html\" title=\"湛江市人民检察院听证公告\" target=\"_blank\">湛江市人民检察院听证公告</a></li><li><i>2021-11-05</i><a href=\"/fileserver/NewsHtml/0dd8f612-a207-4ca4-8847-69b5bb324a34.html\" title=\"湛江市人民检察院公开听证公告\" target=\"_blank\">湛江市人民检察院公开听证公告</a></li><li><i>2021-10-22</i><a href=\"/fileserver/NewsHtml/d0a85345-5edd-42fa-a980-c72d45434c1b.html\" title=\"湛江市人民检察院公开听证公告\" target=\"_blank\">湛江市人民检察院公开听证公告</a></li><li><i>2021-10-08</i><a href=\"/fileserver/NewsHtml/fb7d3538-26e0-4649-8c0d-b49984a069fe.html\" title=\"湛江市人民检察院听证公告\" target=\"_blank\">湛江市人民检察院听证公告</a></li><li><i>2021-09-23</i><a href=\"/fileserver/NewsHtml/cf6469dd-7c7f-4702-97d7-c6886bcf61b9.html\" title=\"湛江市人民检察院公开听证公告\" target=\"_blank\">湛江市人民检察院公开听证公告</a></li><li><i>2021-09-14</i><a href=\"/fileserver/NewsHtml/a9ad45f2-ef21-40cc-a04a-9578476dbb9f.html\" title=\"湛江市人民检察院听证公告\" target=\"_blank\">湛江市人民检察院听证公告</a></li></ul>\n",
      "            </div>\n",
      "            <input name=\"hidTotalRows\" type=\"hidden\" id=\"hidTotalRows\" value=\"51\">\n",
      "            <input name=\"hidPerPageRows\" type=\"hidden\" id=\"hidPerPageRows\" value=\"15\">\n",
      "            <input name=\"hidCurClassid\" type=\"hidden\" id=\"hidCurClassid\" value=\"5e1cbcdf-d030-43e0-9b83-c76f08b86384\">\n",
      "            <input name=\"hidTotalPagers\" type=\"hidden\" id=\"hidTotalPagers\" value=\"10\"><div class=\"page\" id=\"curPage\"><a href=\"#listTop\" onclick=\"getDataByPage(1);\">首页</a><a href=\"#listTop\" onclick=\"getDataByPage(1);\">上页</a>  <a href=\"#listTop\" onclick=\"getDataByPage(1);\" title=\"第1页\">1</a> <a href=\"#listTop\" class=\"on\"><b>2</b></a> <a href=\"#listTop\" onclick=\"getDataByPage(3);\" title=\"第3页\">3</a>  <a href=\"#listTop\" onclick=\"getDataByPage(4);\" title=\"第4页\">4</a> <a href=\"#listTop\" onclick=\"getDataByPage(3);\">下页</a> <a href=\"#listTop\" onclick=\"getDataByPage(4)\">末页</a>  共[ 4 ]页</div>\n",
      "        </div>\n",
      "        <script src=\"/ActivityPages/js/pager.js\" type=\"text/javascript\"></script>\n",
      "    </div>\n",
      "    <div class=\"gdzjjcFooterBar\">\n",
      "        <p></p><div class=\"link-bar\"><a href=\"/\" target=\"_blank\" class=\"a0\">首页</a><a href=\"/\" target=\"_blank\" class=\"a1\">市院概况</a><a href=\"/\" target=\"_blank\" class=\"a2\">湛检动态</a><a href=\"/\" target=\"_blank\" class=\"a3\">检务公开</a></div><div class=\"content-bar\"><div class=\"wall\"><img src=\"/NewVersion/images/gdzjjc/footer1.png\" class=\"img img1\"><img src=\"/NewVersion/images/gdzjjc/footer2.png\" class=\"img img2\"><img src=\"/NewVersion/images/gdzjjc/footer3.png\" class=\"img img3\"><p><span>主办单位：湛江市人民检察院</span><span>联系电话：0759-3582002</span><span>联系地址：湛江市赤坎区人民大道北35号</span></p><p><span>技术支持单位：中国移动通信集团广东有限公司湛江分公司</span><span>粤ICP备17015377号-1</span></p></div></div><p></p>\n",
      "    </div>\n",
      "    <script src=\"/NewVersion/scripts/jquery.js\"></script>\n",
      "    <script src=\"/NewVersion/scripts/jquery.SuperSlide.js\"></script>\n",
      "    <script src=\"/Modules/Staticize/Templates/extra.js\"></script>\n",
      "    <script src=\"/NewVersion/js/chunk-vendors.23b9bd47.js\"></script>\n",
      "\n",
      "\n",
      "</body></html>\n"
     ]
    }
   ],
   "source": [
    "edge = webdriver.Edge(path)\n",
    "url = 'http://www.gdzjjc.gov.cn/fileserver/NewsHtml/5e1cbcdf-d030-43e0-9b83-c76f08b86384.html'\n",
    "edge.get(url)\n",
    "time.sleep(1)\n",
    "next_btn = edge.find_element_by_xpath('//*[@id=\"curPage\"]/a[7]').click()\n",
    "time.sleep(1)\n",
    "response = edge.page_source\n",
    "print(response)\n",
    "# edge.close()"
   ]
  },
  {
   "cell_type": "code",
   "execution_count": 3,
   "id": "bf448929",
   "metadata": {
    "ExecuteTime": {
     "end_time": "2023-04-08T03:29:57.051323Z",
     "start_time": "2023-04-08T03:29:56.959843Z"
    }
   },
   "outputs": [],
   "source": [
    "edge.close()"
   ]
  },
  {
   "cell_type": "code",
   "execution_count": 4,
   "id": "223963f0",
   "metadata": {
    "ExecuteTime": {
     "end_time": "2023-04-08T03:30:12.905258Z",
     "start_time": "2023-04-08T03:30:04.848243Z"
    },
    "scrolled": true
   },
   "outputs": [
    {
     "name": "stdout",
     "output_type": "stream",
     "text": [
      "<html xmlns=\"http://www.w3.org/1999/xhtml\"><head>\n",
      "    <meta http-equiv=\"Content-Type\" content=\"text/html; charset=utf-8\">\n",
      "    <meta name=\"description\" content=\"湛江市检察院\"><meta name=\"keywords\" content=\"湛江,湛江市,检察院\">\n",
      "    <style type=\"text/css\">\n",
      "        .footer p {\n",
      "            text-align: left;\n",
      "            margin-top: 15px;\n",
      "        }\n",
      "    </style>\n",
      "    <title>湛江市人民检察院公开听证公告,通知公告,湛江市人民检察院</title>\n",
      "    <link href=\"/Modules/Staticize/CSS/tygl.css\" rel=\"stylesheet\" type=\"text/css\">\n",
      "    <link href=\"/Theme/2021/css/newsys.css\" rel=\"stylesheet\" type=\"text/css\">\n",
      "    <script type=\"text/javascript\" src=\"/Theme/2015/script/jquery.min.js\"></script>\n",
      "    <script type=\"text/javascript\" src=\"/Theme/2015/script/common.js\"></script>\n",
      "    <link href=\"/Theme/2021/css/app.css\" rel=\"stylesheet\" type=\"text/css\">\n",
      "    <link href=\"/Theme/2021/css/chunk-vendors.d9890480.css\" rel=\"stylesheet\" type=\"text/css\">\n",
      "    <link href=\"/NewVersion/js/app.a64ed48d.js\" rel=\"preload\" as=\"script\">\n",
      "    <link href=\"/NewVersion/js/chunk-vendors.23b9bd47.js\" rel=\"preload\" as=\"script\">\n",
      "    <script src=\"/Styles/share/jquery.share.min.js\"></script>\n",
      "    <link href=\"/Styles/share/share.css\" rel=\"stylesheet\">\n",
      "    <script src=\"/statics/scripts/newsDetail.js\"></script>\n",
      "    <script type=\"text/javascript\">\n",
      "        $('#share-1').share();\n",
      "\n",
      "        //$(function () {\n",
      "        //    changeTag(2, \"on\", \"tb2_\");\n",
      "        //    $(\".jiathis_style\").click(function () {\n",
      "        //        var contentStr = \"\";\n",
      "        //        var reg = new RegExp(\"/<\\/?[^>]*>/g\", \"g\");\n",
      "        //        contentStr = trim($(\"#newsContent\").html()); // /[\\u4E00-\\u9FA5]/g\n",
      "        //        var titleStr = $(\"h1\").html();\n",
      "\n",
      "        //        jiathis_config = {\n",
      "        //            data_track_clickback: true,\n",
      "        //            url: window.location.href,\n",
      "        //            summary: contentStr.substring(0, 100) + \"...\",\n",
      "        //            title: titleStr + \"#湛江检察院网#\",\n",
      "        //            shortUrl: false,\n",
      "        //            hideMore: true\n",
      "        //        };\n",
      "        //    });\n",
      "        //});\n",
      "    </script>\n",
      "</head>\n",
      "\n",
      "<body class=\"gdzjjc\">\n",
      "    <div class=\"layoutLHeader\" style=\" height: 240px; background-image: url(&quot;/fileserver/Upload/IndexFile/202101/dacf24c4745448eb8fd1dbffaa540119.png&quot;);background-position: center top;\"></div>\n",
      "    <div class=\"layoutLNav\" style=\"background-color: rgb(70, 118, 191);\">\n",
      "        <div class=\"nav-bar\" style=\"width: 1210px;\">\n",
      "            <div class=\"nav-item nav-item0 on\" style=\"width: 140px;\"><a href=\"/\" target=\"\"><img src=\"/fileserver/Upload/IndexFile/202101/f14e541f59fc42e68ef430f1baee1c53.png\" class=\"icon\">首页</a><ul class=\"nav-child\"></ul></div><div class=\"nav-item nav-item1 \" style=\"width: 140px;\"><a><img src=\"/fileserver/Upload/IndexFile/202101/5ba08e4907e5411b8f7bfb538de85e5c.png\" class=\"icon\">市院概况</a><ul class=\"nav-child\"><li class=\"nav-child-item\"><a href=\"/fileserver/NewsHtml/790bf420-73c8-44a1-b84b-d1eb45026115.html\" target=\"\">市院概况</a></li><li class=\"nav-child-item\"><a href=\"/fileserver/NewsHtml/05358d0c-cf94-4aed-bf27-b0c65262aa0f.html\" target=\"\">机构设置</a></li><li class=\"nav-child-item\"><a href=\"/fileserver/NewsHtml/0706bffd-4c16-42f6-af3d-134f35d30361.html\" target=\"\">人员信息 </a></li></ul></div><div class=\"nav-item nav-item2 \" style=\"width: 140px;\"><a href=\"/fileserver/NewsHtml/e07708cf-9e49-4af0-8571-511225044a43.html\" target=\"\"><img src=\"/fileserver/Upload/IndexFile/202101/40f8cf76c5234add832e4d7b49bddba0.png\" class=\"icon\">湛检动态</a><ul class=\"nav-child\"><li class=\"nav-child-item\"><a href=\"/fileserver/NewsHtml/e07708cf-9e49-4af0-8571-511225044a43.html\" target=\"\">湛检动态</a></li><li class=\"nav-child-item\"><a href=\"/fileserver/NewsHtml/ee3a7884-6cdb-451c-8e06-18189c310f82.html\" target=\"\">公益诉讼</a></li></ul></div><div class=\"nav-item nav-item3 \" style=\"width: 140px;\"><a><img src=\"/fileserver/Upload/IndexFile/202101/110609bc5a4c4371a38d43df5f2971f2.png\" class=\"icon\">检务公开</a><ul class=\"nav-child\"><li class=\"nav-child-item\"><a href=\"/fileserver/NewsHtml/5e1cbcdf-d030-43e0-9b83-c76f08b86384.html\" target=\"\">通知公告</a></li><li class=\"nav-child-item\"><a href=\"/fileserver/NewsHtml/036c6160-d18d-4a66-99fd-254dbee79c9f.html\" target=\"\">预算决算</a></li><li class=\"nav-child-item\"><a href=\"/fileserver/NewsHtml/ab17c493-25e9-4ba9-a5fa-cbc76658855a.html\" target=\"\">检察报告</a></li><li class=\"nav-child-item\"><a href=\"/fileserver/NewsHtml/a81555d1-9a9f-46ae-ba01-c99b903a6f6b.html\" target=\"\">检察公开听证</a></li><li class=\"nav-child-item\"><a href=\"/fileserver/NewsHtml/284941cb-0756-4726-9db5-f8834d1dd003.html\" target=\"\">新闻发布会</a></li></ul></div><div class=\"nav-item nav-item4 \" style=\"width: 140px;\"><a href=\"/fileserver/NewsHtml/c0b7eb03-4d3d-4b33-8c39-a35513cc74bb.html\" target=\"\"><img src=\"/fileserver/Upload/IndexFile/202101/38654cda9f374d238dead7573282121a.png\" class=\"icon\">检务指南</a><ul class=\"nav-child\"><li class=\"nav-child-item\"><a href=\"/fileserver/NewsHtml/ebf01b51-4fba-4228-a012-78ddf8058404.html\" target=\"\">工作流程</a></li><li class=\"nav-child-item\"><a href=\"/fileserver/NewsHtml/e8475531-718b-44e7-8120-c3aec935755b.html\" target=\"\">权利义务须知</a></li></ul></div><div class=\"nav-item nav-item5 \" style=\"width: 140px;\"><a><img src=\"/fileserver/Upload/IndexFile/202101/6ae0ba15e53449ba8514093816a42037.png\" class=\"icon\">理论研究</a><ul class=\"nav-child\"><li class=\"nav-child-item\"><a href=\"/fileserver/NewsHtml/a4e7e473-c127-41c5-9c4b-885c6d816df0.html\" target=\"\">典型案例</a></li><li class=\"nav-child-item\"><a href=\"/fileserver/NewsHtml/912b5572-b0f2-4078-9191-f753228dd5d3.html\" target=\"\">规范速递</a></li></ul></div>\n",
      "        </div>\n",
      "    </div>\n",
      "    <div class=\"content clearfix\" style=\"background-color:#fff;\">\n",
      "        <div class=\"wz artNavi\">您当前所在位置：<a href=\"/\">首页</a> &gt;&gt;  <a href=\"/fileserver/NewsHtml/33b50d2a-486d-442f-acf7-41bc67244f79.html\">检务公开</a> &gt;&gt;<a style=\"color:red\" href=\"/fileserver/NewsHtml/5e1cbcdf-d030-43e0-9b83-c76f08b86384.html\">通知公告</a> </div>\n",
      "\n",
      "        <!-- <div class=\"rig_2s\">-->\n",
      "        <div class=\"Content\">\n",
      "\n",
      "            <div class=\"tygl_right\">\n",
      "                <iframe allowtransparency=\"true\" frameborder=\"0\" style=\"height: 665px; width: 100%;  \" src=\"/Modules/News/JCDTNews.aspx\"></iframe>\n",
      "            </div>\n",
      "            <div class=\"pannel tyxlInof\" style=\"min-height: 588px; _height: 588px;\">\n",
      "                <div class=\"shareIcon\">\n",
      "                    <div style=\"display:inline-block;\">分享到：</div>\n",
      "                    <div id=\"share-1\" class=\"share-component social-share\" data-sites=\"wechat ,weibo, qq, qzone\" style=\"display:inline-block;\">\n",
      "                    <a class=\"social-share-icon icon-wechat\" href=\"javascript:;\" tabindex=\"-1\" target=\"_self\"><div class=\"wechat-qrcode\"><h4>微信扫一扫：分享</h4><div class=\"qrcode\"><img src=\"data:image/png;base64,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\"></div><div class=\"help\"><p>扫一扫，分享给好友或朋友圈</p></div></div></a><a class=\"social-share-icon icon-weibo\" href=\"https://service.weibo.com/share/share.php?url=http%3A%2F%2Fwww.gdzjjc.gov.cn%2Ffileserver%2FNewsHtml%2F13c4f4a8-79fc-4a35-9048-2e5fc87aad83.html&amp;title=%E6%B9%9B%E6%B1%9F%E5%B8%82%E4%BA%BA%E6%B0%91%E6%A3%80%E5%AF%9F%E9%99%A2%E5%85%AC%E5%BC%80%E5%90%AC%E8%AF%81%E5%85%AC%E5%91%8A%2C%E9%80%9A%E7%9F%A5%E5%85%AC%E5%91%8A%2C%E6%B9%9B%E6%B1%9F%E5%B8%82%E4%BA%BA%E6%B0%91%E6%A3%80%E5%AF%9F%E9%99%A2&amp;pic=http%3A%2F%2Fwww.gdzjjc.gov.cn%2Ffileserver%2FUpload%2FIndexFile%2F202101%2Ff14e541f59fc42e68ef430f1baee1c53.png&amp;appkey=\" target=\"_blank\"></a><a class=\"social-share-icon icon-qq\" href=\"http://connect.qq.com/widget/shareqq/index.html?url=http%3A%2F%2Fwww.gdzjjc.gov.cn%2Ffileserver%2FNewsHtml%2F13c4f4a8-79fc-4a35-9048-2e5fc87aad83.html&amp;title=%E6%B9%9B%E6%B1%9F%E5%B8%82%E4%BA%BA%E6%B0%91%E6%A3%80%E5%AF%9F%E9%99%A2%E5%85%AC%E5%BC%80%E5%90%AC%E8%AF%81%E5%85%AC%E5%91%8A%2C%E9%80%9A%E7%9F%A5%E5%85%AC%E5%91%8A%2C%E6%B9%9B%E6%B1%9F%E5%B8%82%E4%BA%BA%E6%B0%91%E6%A3%80%E5%AF%9F%E9%99%A2&amp;source=%E6%B9%9B%E6%B1%9F%E5%B8%82%E4%BA%BA%E6%B0%91%E6%A3%80%E5%AF%9F%E9%99%A2%E5%85%AC%E5%BC%80%E5%90%AC%E8%AF%81%E5%85%AC%E5%91%8A%2C%E9%80%9A%E7%9F%A5%E5%85%AC%E5%91%8A%2C%E6%B9%9B%E6%B1%9F%E5%B8%82%E4%BA%BA%E6%B0%91%E6%A3%80%E5%AF%9F%E9%99%A2&amp;desc=%E6%B9%9B%E6%B1%9F%E5%B8%82%E6%A3%80%E5%AF%9F%E9%99%A2&amp;pics=http%3A%2F%2Fwww.gdzjjc.gov.cn%2Ffileserver%2FUpload%2FIndexFile%2F202101%2Ff14e541f59fc42e68ef430f1baee1c53.png\" target=\"_blank\"></a><a class=\"social-share-icon icon-qzone\" href=\"http://sns.qzone.qq.com/cgi-bin/qzshare/cgi_qzshare_onekey?url=http%3A%2F%2Fwww.gdzjjc.gov.cn%2Ffileserver%2FNewsHtml%2F13c4f4a8-79fc-4a35-9048-2e5fc87aad83.html&amp;title=%E6%B9%9B%E6%B1%9F%E5%B8%82%E4%BA%BA%E6%B0%91%E6%A3%80%E5%AF%9F%E9%99%A2%E5%85%AC%E5%BC%80%E5%90%AC%E8%AF%81%E5%85%AC%E5%91%8A%2C%E9%80%9A%E7%9F%A5%E5%85%AC%E5%91%8A%2C%E6%B9%9B%E6%B1%9F%E5%B8%82%E4%BA%BA%E6%B0%91%E6%A3%80%E5%AF%9F%E9%99%A2&amp;desc=%E6%B9%9B%E6%B1%9F%E5%B8%82%E6%A3%80%E5%AF%9F%E9%99%A2&amp;summary=%E6%B9%9B%E6%B1%9F%E5%B8%82%E6%A3%80%E5%AF%9F%E9%99%A2&amp;site=%E6%B9%9B%E6%B1%9F%E5%B8%82%E4%BA%BA%E6%B0%91%E6%A3%80%E5%AF%9F%E9%99%A2%E5%85%AC%E5%BC%80%E5%90%AC%E8%AF%81%E5%85%AC%E5%91%8A%2C%E9%80%9A%E7%9F%A5%E5%85%AC%E5%91%8A%2C%E6%B9%9B%E6%B1%9F%E5%B8%82%E4%BA%BA%E6%B0%91%E6%A3%80%E5%AF%9F%E9%99%A2&amp;pics=http%3A%2F%2Fwww.gdzjjc.gov.cn%2Ffileserver%2FUpload%2FIndexFile%2F202101%2Ff14e541f59fc42e68ef430f1baee1c53.png\" target=\"_blank\"></a></div>\n",
      "                </div>\n",
      "                <h1 class=\"argTit\">湛江市人民检察院公开听证公告</h1>\n",
      "                <h1 class=\"argTit\" style=\"font-size:24px;\"></h1>\n",
      "                <h2 class=\"artSet\">\n",
      "                    <span>2022-08-18 </span><span style=\"margin-left:100px\">\n",
      "                        字体：\n",
      "                        <a href=\"javascript:void(0);\" id=\"large\" onclick=\"setFontSize('newsContent', 20)\">大</a>\n",
      "                        <a href=\"javascript:void(0);\" id=\"medium\" onclick=\"setFontSize('newsContent', 18)\">中</a>\n",
      "                        <a href=\"javascript:void(0);\" id=\"small\" onclick=\"setFontSize('newsContent', 14)\">小</a>\n",
      "                    </span>\n",
      "                </h2>\n",
      "                <div id=\"newsContent\" style=\"color: black; font-size: 18px;\"><p style=\"background: rgb(255, 255, 255); text-align: center; font-size: 18px;\">&nbsp;</p><p style=\"background: rgb(255, 255, 255); text-align: center; font-size: 18px;\"><strong><span style=\"color: rgb(81, 81, 81); font-family: 宋体; font-size: 18px; font-weight: bold;\"><span style=\"font-family: 宋体; font-size: 18px;\"></span></span></strong></p><p style=\"font-size: 18px;\"><span style=\"color: rgb(81, 81, 81); font-family: 宋体; font-size: 18px;\"><br></span><span style=\"color: rgb(64, 64, 64); font-family: 仿宋; font-size: 18px;\"><span style=\"font-family: 仿宋; font-size: 18px;\"></span></span></p><p style=\"background: rgb(255, 255, 255); text-align: justify; text-indent: 2em; font-size: 18px;\"><span style=\"color: rgb(64, 64, 64); font-family: 仿宋; font-size: 18px;\"><span style=\"font-family: 仿宋; font-size: 18px;\">根据《人民检察院审查案件听证工作规定》</span></span><span style=\"color: rgb(64, 64, 64); font-family: 仿宋; font-size: 18px;\"><span style=\"font-family: 仿宋; font-size: 18px;\">，</span></span><span style=\"color: rgb(64, 64, 64); font-family: 仿宋; font-size: 18px;\"><span style=\"font-family: 仿宋; font-size: 18px;\">本院决定</span></span><span style=\"color: rgb(64, 64, 64); font-family: 仿宋; font-size: 18px;\"><span style=\"font-family: 仿宋; font-size: 18px;\">对</span></span><span style=\"color: rgb(64, 64, 64); font-family: 仿宋; font-size: 18px;\"><span style=\"font-family: 仿宋; font-size: 18px;\">谭亚龙申请国家赔偿</span></span><span style=\"color: rgb(64, 64, 64); font-family: 仿宋; font-size: 18px;\"><span style=\"font-family: 仿宋; font-size: 18px;\">案</span></span><span style=\"color: rgb(64, 64, 64); font-family: 仿宋; font-size: 18px;\"><span style=\"font-family: 仿宋; font-size: 18px;\">和江亚琴申请国家赔偿案</span></span><span style=\"color: rgb(64, 64, 64); font-family: 仿宋; font-size: 18px;\"><span style=\"font-family: 仿宋; font-size: 18px;\">举行</span></span><span style=\"color: rgb(64, 64, 64); font-family: 仿宋; font-size: 18px;\"><span style=\"font-family: 仿宋; font-size: 18px;\">公开听证会，并向社会公众开放。现将有关事项公告如下：</span></span></p><p style=\"background: rgb(255, 255, 255); text-indent: 43px; font-size: 18px;\"><span style=\"color: rgb(81, 81, 81); font-family: 仿宋; font-size: 18px;\"><span style=\"font-family: 仿宋; font-size: 18px;\">一、公开听证会召开时间：</span></span></p><p style=\"background: rgb(255, 255, 255); text-indent: 43px; font-size: 18px;\"><span style=\"color: rgb(81, 81, 81); font-family: 仿宋; font-size: 18px;\"><span style=\"font-family: 仿宋; font-size: 18px;\">2022</span></span><span style=\"color: rgb(81, 81, 81); font-family: 仿宋; font-size: 18px;\"><span style=\"font-family: 仿宋; font-size: 18px;\">年</span></span><span style=\"color: rgb(81, 81, 81); font-family: 仿宋; font-size: 18px;\"><span style=\"font-family: 仿宋; font-size: 18px;\">8</span></span><span style=\"color: rgb(81, 81, 81); font-family: 仿宋; font-size: 18px;\"><span style=\"font-family: 仿宋; font-size: 18px;\">月</span></span><span style=\"color: rgb(81, 81, 81); font-family: 仿宋; font-size: 18px;\"><span style=\"font-family: 仿宋; font-size: 18px;\">23</span></span><span style=\"color: rgb(81, 81, 81); font-family: 仿宋; font-size: 18px;\"><span style=\"font-family: 仿宋; font-size: 18px;\">日（星期</span></span><span style=\"color: rgb(81, 81, 81); font-family: 仿宋; font-size: 18px;\"><span style=\"font-family: 仿宋; font-size: 18px;\">二</span></span><span style=\"color: rgb(81, 81, 81); font-family: 仿宋; font-size: 18px;\"><span style=\"font-family: 仿宋; font-size: 18px;\">）</span></span><span style=\"color: rgb(81, 81, 81); font-family: 仿宋; font-size: 18px;\"><span style=\"font-family: 仿宋; font-size: 18px;\">下</span></span><span style=\"color: rgb(81, 81, 81); font-family: 仿宋; font-size: 18px;\"><span style=\"font-family: 仿宋; font-size: 18px;\">午</span></span><span style=\"color: rgb(81, 81, 81); font-family: 仿宋; font-size: 18px;\"><span style=\"font-family: 仿宋; font-size: 18px;\">15</span></span><span style=\"color: rgb(81, 81, 81); font-family: 仿宋; font-size: 18px;\">:</span><span style=\"color: rgb(81, 81, 81); font-family: 仿宋; font-size: 18px;\"><span style=\"font-family: 仿宋; font-size: 18px;\">00</span></span></p><p style=\"background: rgb(255, 255, 255); text-indent: 43px; font-size: 18px;\"><span style=\"color: rgb(81, 81, 81); font-family: 仿宋; font-size: 18px;\"><span style=\"font-family: 仿宋; font-size: 18px;\">二、公开听证会召开地点：</span></span></p><p style=\"background: rgb(255, 255, 255); text-indent: 43px; font-size: 18px;\"><span style=\"color: rgb(81, 81, 81); font-family: 仿宋; font-size: 18px;\"><span style=\"font-family: 仿宋; font-size: 18px;\">湛江</span></span><span style=\"color: rgb(81, 81, 81); font-family: 仿宋; font-size: 18px;\"><span style=\"font-family: 仿宋; font-size: 18px;\">市人民检察院</span>12309检察服务中心</span><span style=\"color: rgb(81, 81, 81); font-family: 仿宋; font-size: 18px;\"><span style=\"font-family: 仿宋; font-size: 18px;\">二楼听证室（湛江市赤坎区人民大道北</span><span style=\"font-family: 仿宋; font-size: 18px;\">35号）</span></span></p><p style=\"background: rgb(255, 255, 255); text-indent: 43px; font-size: 18px;\"><span style=\"color: rgb(81, 81, 81); font-family: 仿宋; font-size: 18px;\"><span style=\"font-family: 仿宋; font-size: 18px;\">三、注意事项：</span></span></p><p style=\"background: rgb(255, 255, 255); text-indent: 43px; font-size: 18px;\"><span style=\"color: rgb(81, 81, 81); font-family: 仿宋; font-size: 18px;\"><span style=\"font-family: 仿宋; font-size: 18px;\">（一）参加听证会的人员应当遵守会场纪律和听证会规则，服从听证主持人的安排。未经听证机构同意，不得录音录像。</span></span></p><p style=\"background: rgb(255, 255, 255); text-indent: 43px; font-size: 18px;\"><span style=\"color: rgb(81, 81, 81); font-family: 仿宋; font-size: 18px;\"><span style=\"font-family: 仿宋; font-size: 18px;\">（二）参加听证人员需佩戴口罩、出示健康码及身份证件，并配合工作人员进行体温测量。</span></span></p><p style=\"background: rgb(255, 255, 255); text-indent: 43px; font-size: 18px;\"><span style=\"color: rgb(81, 81, 81); font-family: 仿宋; font-size: 18px;\"><span style=\"font-family: 仿宋; font-size: 18px;\">四、联系方式：</span></span></p><p style=\"background: rgb(255, 255, 255); text-indent: 43px; font-size: 18px;\"><span style=\"color: rgb(81, 81, 81); font-family: 仿宋; font-size: 18px;\"><span style=\"font-family: 仿宋; font-size: 18px;\">联系人：肖骏飞</span></span></p><p style=\"background: rgb(255, 255, 255); text-indent: 43px; font-size: 18px;\"><span style=\"color: rgb(81, 81, 81); font-family: 仿宋; font-size: 18px;\"><span style=\"font-family: 仿宋; font-size: 18px;\">联系电话：</span><span style=\"font-family: 仿宋; font-size: 18px;\">0759-3582205</span></span></p><p style=\"background: rgb(255, 255, 255); text-indent: 43px; font-size: 18px;\"><span style=\"color: rgb(81, 81, 81); font-family: 仿宋; font-size: 18px;\"><span style=\"font-family: 仿宋; font-size: 18px;\">联系地址：湛江市赤坎区人民大道北</span><span style=\"font-family: 仿宋; font-size: 18px;\">35号湛江市人民检察院</span></span></p><p style=\"background: rgb(255, 255, 255); margin: 7px 0px; text-indent: 85px; font-size: 18px;\"><span style=\"color: rgb(81, 81, 81); font-family: 仿宋; font-size: 18px;\"><span style=\"font-family: 仿宋; font-size: 18px;\">特此公告</span></span><span style=\"color: rgb(81, 81, 81); font-family: 仿宋; font-size: 18px;\"><span style=\"font-family: 仿宋; font-size: 18px;\">!</span></span></p><p style=\"background: rgb(255, 255, 255); text-indent: 48px; font-size: 18px;\"><span style=\"color: rgb(81, 81, 81); font-family: 宋体; font-size: 18px;\">&nbsp;</span></p><p style=\"background: rgb(255, 255, 255); font-size: 18px;\"><span style=\"color: rgb(81, 81, 81); font-family: 宋体; font-size: 18px;\"><span style=\"font-family: 宋体; font-size: 18px;\">&nbsp;&nbsp;&nbsp; </span></span></p><p style=\"text-align: right; font-size: 18px;\"><span style=\"font-family: Calibri; font-size: 18px;\">　　</span><span style=\"font-family: 仿宋; font-size: 18px;\"><span style=\"font-family: 仿宋; font-size: 18px;\">湛江市</span></span><span style=\"font-family: 仿宋; font-size: 18px;\"><span style=\"font-family: 仿宋; font-size: 18px;\">人民检察院</span></span></p><p style=\"text-align: right; font-size: 18px;\"><span style=\"font-family: 仿宋; font-size: 18px;\">　　202</span><span style=\"font-family: 仿宋; font-size: 18px;\"><span style=\"font-family: 仿宋; font-size: 18px;\">2</span></span><span style=\"font-family: 仿宋; font-size: 18px;\"><span style=\"font-family: 仿宋; font-size: 18px;\">年</span></span><span style=\"font-family: 仿宋; font-size: 18px;\"><span style=\"font-family: 仿宋; font-size: 18px;\">8</span></span><span style=\"font-family: 仿宋; font-size: 18px;\"><span style=\"font-family: 仿宋; font-size: 18px;\">月</span></span><span style=\"font-family: 仿宋; font-size: 18px;\"><span style=\"font-family: 仿宋; font-size: 18px;\">18</span></span><span style=\"font-family: 仿宋; font-size: 18px;\"><span style=\"font-family: 仿宋; font-size: 18px;\">日</span></span></p><p style=\"font-size: 18px;\">&nbsp;</p></div>\n",
      "                <div style=\"text-align: center; padding-top:100px; width:100%; clear:both;\" class=\"eorr\">\n",
      "                    <a href=\"javascript:void(0)\" onclick=\"javascript:window.print();\">【打印本页】</a>&nbsp;&nbsp;&nbsp;\n",
      "                    <a href=\"javascript:void(0)\" onclick=\"custom_close()\">【关闭窗口】</a>\n",
      "                </div>\n",
      "                <!--<div style=\"padding-top:20px\">\n",
      "                    <iframe id=\"newsComment\" src=\"\" frameborder=\"0\" scrolling=\"no\" width=\"100%\" onload=\"iFrameHeight()\"></iframe>\n",
      "                </div>-->\n",
      "            </div>\n",
      "\n",
      "        </div>\n",
      "    </div>\n",
      "    <div class=\"gdzjjcFooterBar\">\n",
      "        <p></p><div class=\"link-bar\"><a href=\"/\" target=\"_blank\" class=\"a0\">首页</a><a href=\"/\" target=\"_blank\" class=\"a1\">市院概况</a><a href=\"/\" target=\"_blank\" class=\"a2\">湛检动态</a><a href=\"/\" target=\"_blank\" class=\"a3\">检务公开</a></div><div class=\"content-bar\"><div class=\"wall\"><img src=\"/NewVersion/images/gdzjjc/footer1.png\" class=\"img img1\"><img src=\"/NewVersion/images/gdzjjc/footer2.png\" class=\"img img2\"><img src=\"/NewVersion/images/gdzjjc/footer3.png\" class=\"img img3\"><p><span>主办单位：湛江市人民检察院</span><span>联系电话：0759-3582002</span><span>联系地址：湛江市赤坎区人民大道北35号</span></p><p><span>技术支持单位：中国移动通信集团广东有限公司湛江分公司</span><span>粤ICP备17015377号-1</span></p></div></div><p></p>\n",
      "    </div>\n",
      "    <script src=\"/NewVersion/scripts/jquery.js\"></script>\n",
      "    <script src=\"/NewVersion/scripts/jquery.SuperSlide.js\"></script>\n",
      "    <script src=\"/NewVersion/scripts/extra.js\"></script>\n",
      "    <script src=\"/NewVersion/js/chunk-vendors.23b9bd47.js\"></script>\n",
      "\n",
      "\n",
      "</body></html>\n"
     ]
    }
   ],
   "source": [
    "edge = webdriver.Edge(path)\n",
    "url_1 = 'http://www.gdzjjc.gov.cn/fileserver/NewsHtml/13c4f4a8-79fc-4a35-9048-2e5fc87aad83.html'\n",
    "edge.get(url_1)\n",
    "time.sleep(1)\n",
    "response_1 = edge.page_source\n",
    "print(response_1)\n",
    "edge.close()"
   ]
  },
  {
   "cell_type": "code",
   "execution_count": 15,
   "id": "559e937b",
   "metadata": {
    "ExecuteTime": {
     "end_time": "2023-04-08T03:34:26.207940Z",
     "start_time": "2023-04-08T03:34:26.189942Z"
    }
   },
   "outputs": [
    {
     "name": "stdout",
     "output_type": "stream",
     "text": [
      "['根据《人民检察院审查案件听证工作规定》''，''本院决定''对''谭亚龙申请国家赔偿''案''和江亚琴申请国家赔偿案''举行''公开听证会，并向社会公众开放。现将有关事项公告如下：''一、公开听证会召开时间：''2022''年''8''月''23''日（星期''二''）''下''午''15''00''二、公开听证会召开地点：''湛江''市人民检察院''二楼听证室（湛江市赤坎区人民大道北''三、注意事项：''（一）参加听证会的人员应当遵守会场纪律和听证会规则，服从听证主持人的安排。未经听证机构同意，不得录音录像。''（二）参加听证人员需佩戴口罩、出示健康码及身份证件，并配合工作人员进行体温测量。''四、联系方式：''联系人：肖骏飞''联系电话：''联系地址：湛江市赤坎区人民大道北''特此公告''!''湛江市''人民检察院''2''年''8''月''18''日']\n"
     ]
    }
   ],
   "source": [
    "response = str(response_1)\n",
    "Find_word = re.compile(r'font-family: 仿宋; font-size: 18px;\"><span style=\"font-family: 仿宋; font-size: 18px;\">(.*?)</span>')\n",
    "words = re.findall(Find_word,response)\n",
    "word_list = []\n",
    "for word in words:\n",
    "    if len(word)==0:\n",
    "        continue\n",
    "    word_list.append(word)\n",
    "word_list = str(word_list).replace(', ','')\n",
    "print(word_list)"
   ]
  },
  {
   "cell_type": "code",
   "execution_count": 26,
   "id": "948bf7b7",
   "metadata": {
    "ExecuteTime": {
     "end_time": "2023-04-07T16:39:54.545948Z",
     "start_time": "2023-04-07T16:39:54.523936Z"
    }
   },
   "outputs": [
    {
     "name": "stdout",
     "output_type": "stream",
     "text": [
      "[]\n"
     ]
    }
   ],
   "source": [
    "tree = etree.HTML(response)\n",
    "word = tree.xpath('//*[@id=\"newsContent\"]/p[4]/span[5]')\n",
    "print(word)"
   ]
  },
  {
   "cell_type": "code",
   "execution_count": null,
   "id": "e201bdda",
   "metadata": {},
   "outputs": [],
   "source": []
  }
 ],
 "metadata": {
  "kernelspec": {
   "display_name": "gather",
   "language": "python",
   "name": "gather"
  },
  "language_info": {
   "codemirror_mode": {
    "name": "ipython",
    "version": 3
   },
   "file_extension": ".py",
   "mimetype": "text/x-python",
   "name": "python",
   "nbconvert_exporter": "python",
   "pygments_lexer": "ipython3",
   "version": "3.10.8"
  },
  "toc": {
   "base_numbering": 1,
   "nav_menu": {},
   "number_sections": true,
   "sideBar": true,
   "skip_h1_title": false,
   "title_cell": "Table of Contents",
   "title_sidebar": "Contents",
   "toc_cell": false,
   "toc_position": {},
   "toc_section_display": true,
   "toc_window_display": false
  }
 },
 "nbformat": 4,
 "nbformat_minor": 5
}
